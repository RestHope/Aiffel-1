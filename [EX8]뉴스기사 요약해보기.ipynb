{
 "cells": [
  {
   "cell_type": "markdown",
   "id": "38da92a1",
   "metadata": {},
   "source": [
    "## 루브릭\n",
    "|평가문항|상세기준|\n",
    "|:-----|:---|\n",
    "|1. Abstractive 모델 구성을 위한 텍스트 전처리 단계가 체계적으로 진행되었다.|분석단계, 정제단계, 정규화와 불용어 제거, 데이터셋 분리, 인코딩 과정이 빠짐없이 체계적으로 진행되었다.|\n",
    "|2. 텍스트 요약모델이 성공적으로 학습되었음을 확인하였다.|모델학습이 안정적으로 수렴되었음을 그래프를 통해 확인하였으며, 실제 요약문과 유사한 요약문장을 얻을 수 있었다.|\n",
    "|3. Extractive 요약을 시도해 보고 Abstractive 요약 결과과 함께 비교해 보았다.|두 요약 결과를 문법완성도 측면과 핵심단어 포함 측면으로 나누어 비교분석 결과를 제시하였다.|\n"
   ]
  },
  {
   "cell_type": "markdown",
   "id": "be19ac3c",
   "metadata": {},
   "source": [
    "# Step1. 데이터 수집하기\n",
    "---\n",
    "데이터 다운로드\n"
   ]
  },
  {
   "cell_type": "code",
   "execution_count": 1,
   "id": "1f2f5622",
   "metadata": {},
   "outputs": [
    {
     "name": "stderr",
     "output_type": "stream",
     "text": [
      "[nltk_data] Downloading package stopwords to /aiffel/nltk_data...\n",
      "[nltk_data]   Package stopwords is already up-to-date!\n"
     ]
    }
   ],
   "source": [
    "import nltk\n",
    "nltk.download('stopwords')\n",
    "\n",
    "import numpy as np\n",
    "import pandas as pd\n",
    "import os\n",
    "import re\n",
    "import matplotlib.pyplot as plt\n",
    "from nltk.corpus import stopwords\n",
    "from bs4 import BeautifulSoup \n",
    "from tensorflow.keras.preprocessing.text import Tokenizer \n",
    "from tensorflow.keras.preprocessing.sequence import pad_sequences\n",
    "import urllib.request\n",
    "import warnings\n",
    "warnings.filterwarnings(\"ignore\", category=UserWarning, module='bs4')\n",
    "import urllib.request"
   ]
  },
  {
   "cell_type": "code",
   "execution_count": 2,
   "id": "f2ecea73",
   "metadata": {},
   "outputs": [],
   "source": [
    "\n",
    "urllib.request.urlretrieve(\"https://raw.githubusercontent.com/sunnysai12345/News_Summary/master/news_summary_more.csv\", filename=\"news_summary_more.csv\")\n",
    "data = pd.read_csv('news_summary_more.csv', encoding='iso-8859-1')"
   ]
  },
  {
   "cell_type": "code",
   "execution_count": 3,
   "id": "568cd7e4",
   "metadata": {},
   "outputs": [
    {
     "data": {
      "text/html": [
       "<div>\n",
       "<style scoped>\n",
       "    .dataframe tbody tr th:only-of-type {\n",
       "        vertical-align: middle;\n",
       "    }\n",
       "\n",
       "    .dataframe tbody tr th {\n",
       "        vertical-align: top;\n",
       "    }\n",
       "\n",
       "    .dataframe thead th {\n",
       "        text-align: right;\n",
       "    }\n",
       "</style>\n",
       "<table border=\"1\" class=\"dataframe\">\n",
       "  <thead>\n",
       "    <tr style=\"text-align: right;\">\n",
       "      <th></th>\n",
       "      <th>headlines</th>\n",
       "      <th>text</th>\n",
       "    </tr>\n",
       "  </thead>\n",
       "  <tbody>\n",
       "    <tr>\n",
       "      <th>90928</th>\n",
       "      <td>Ola driver arrested for molesting a woman in M...</td>\n",
       "      <td>The Mumbai Police has arrested an Ola cab driv...</td>\n",
       "    </tr>\n",
       "    <tr>\n",
       "      <th>76499</th>\n",
       "      <td>Deepika enjoys shopping &amp; dining Ã¢ÂÂExperie...</td>\n",
       "      <td>Axis Bank recently launched its 'Experience Ax...</td>\n",
       "    </tr>\n",
       "    <tr>\n",
       "      <th>74393</th>\n",
       "      <td>Overloading, unsafe helipads led to chopper mi...</td>\n",
       "      <td>After Maharashtra Chief Minister Devendra Fadn...</td>\n",
       "    </tr>\n",
       "    <tr>\n",
       "      <th>17047</th>\n",
       "      <td>Pak has to understand how to behave with neigh...</td>\n",
       "      <td>Addressing the media on Monday, Home Minister ...</td>\n",
       "    </tr>\n",
       "    <tr>\n",
       "      <th>61355</th>\n",
       "      <td>B'luru unsuitable for those with respiratory a...</td>\n",
       "      <td>BengaluruÃ¢ÂÂs doctors said it is not suitab...</td>\n",
       "    </tr>\n",
       "    <tr>\n",
       "      <th>38413</th>\n",
       "      <td>17-yr-old hits 232*(145) in an ODI to break 21...</td>\n",
       "      <td>New Zealand Women's 17-year-old spinner Amelia...</td>\n",
       "    </tr>\n",
       "    <tr>\n",
       "      <th>89837</th>\n",
       "      <td>Modi to address nation on completion of 3 year...</td>\n",
       "      <td>PM Narendra Modi will address the nation on Ma...</td>\n",
       "    </tr>\n",
       "    <tr>\n",
       "      <th>89738</th>\n",
       "      <td>Sagarika Ghatge shares pic with fiancÃÂ© Zahe...</td>\n",
       "      <td>Actress Sagarika Ghatge, known for her perform...</td>\n",
       "    </tr>\n",
       "    <tr>\n",
       "      <th>50503</th>\n",
       "      <td>Opp'n held rally to save party, not Constituti...</td>\n",
       "      <td>Targeting the Opposition's 'Save the Constitut...</td>\n",
       "    </tr>\n",
       "    <tr>\n",
       "      <th>79153</th>\n",
       "      <td>Maanayata dances to Despacito with son on her ...</td>\n",
       "      <td>Actor Sanjay Dutt's wife Maanayata Dutt has sh...</td>\n",
       "    </tr>\n",
       "  </tbody>\n",
       "</table>\n",
       "</div>"
      ],
      "text/plain": [
       "                                               headlines  \\\n",
       "90928  Ola driver arrested for molesting a woman in M...   \n",
       "76499  Deepika enjoys shopping & dining Ã¢ÂÂExperie...   \n",
       "74393  Overloading, unsafe helipads led to chopper mi...   \n",
       "17047  Pak has to understand how to behave with neigh...   \n",
       "61355  B'luru unsuitable for those with respiratory a...   \n",
       "38413  17-yr-old hits 232*(145) in an ODI to break 21...   \n",
       "89837  Modi to address nation on completion of 3 year...   \n",
       "89738  Sagarika Ghatge shares pic with fiancÃÂ© Zahe...   \n",
       "50503  Opp'n held rally to save party, not Constituti...   \n",
       "79153  Maanayata dances to Despacito with son on her ...   \n",
       "\n",
       "                                                    text  \n",
       "90928  The Mumbai Police has arrested an Ola cab driv...  \n",
       "76499  Axis Bank recently launched its 'Experience Ax...  \n",
       "74393  After Maharashtra Chief Minister Devendra Fadn...  \n",
       "17047  Addressing the media on Monday, Home Minister ...  \n",
       "61355  BengaluruÃ¢ÂÂs doctors said it is not suitab...  \n",
       "38413  New Zealand Women's 17-year-old spinner Amelia...  \n",
       "89837  PM Narendra Modi will address the nation on Ma...  \n",
       "89738  Actress Sagarika Ghatge, known for her perform...  \n",
       "50503  Targeting the Opposition's 'Save the Constitut...  \n",
       "79153  Actor Sanjay Dutt's wife Maanayata Dutt has sh...  "
      ]
     },
     "execution_count": 3,
     "metadata": {},
     "output_type": "execute_result"
    }
   ],
   "source": [
    "data.sample(10)"
   ]
  },
  {
   "cell_type": "markdown",
   "id": "a990e49f",
   "metadata": {},
   "source": [
    "# Step 2. 데이터 전처리하기 (추상적 요약)\n",
    "실습에서 사용된 전처리를 참고하여 각자 필요하다고 생각하는 전처리를 추가 사용하여 텍스트를 정규화 또는 정제해 보세요. 만약, 불용어 제거를 선택한다면 상대적으로 길이가 짧은 요약 데이터에 대해서도 불용어를 제거하는 것이 좋을지 고민해 보세요.\n",
    "\n",
    "---\n",
    "### 2_1.중복 샘플과 NULL 값이 존재하는 샘플 제거\n"
   ]
  },
  {
   "cell_type": "code",
   "execution_count": 4,
   "id": "0b7ee918",
   "metadata": {},
   "outputs": [
    {
     "name": "stdout",
     "output_type": "stream",
     "text": [
      "Text 열에서 중복을 배제한 유일한 샘플의 수 : 98360\n",
      "Summary 열에서 중복을 배제한 유일한 샘플의 수 : 98280\n"
     ]
    }
   ],
   "source": [
    "print('Text 열에서 중복을 배제한 유일한 샘플의 수 :', data['text'].nunique())\n",
    "print('Summary 열에서 중복을 배제한 유일한 샘플의 수 :', data['headlines'].nunique())"
   ]
  },
  {
   "cell_type": "code",
   "execution_count": 5,
   "id": "7b1f0158",
   "metadata": {},
   "outputs": [
    {
     "name": "stdout",
     "output_type": "stream",
     "text": [
      "전체 샘플수 : 98360\n"
     ]
    }
   ],
   "source": [
    "# 중복샘플 데이터 제거\n",
    "# inplace=True 를 설정하면 DataFrame 타입 값을 return 하지 않고 data 내부를 직접적으로 바꿉니다\n",
    "data.drop_duplicates(subset = ['text'], inplace=True)\n",
    "print('전체 샘플수 :', (len(data)))"
   ]
  },
  {
   "cell_type": "code",
   "execution_count": 6,
   "id": "3619ba09",
   "metadata": {},
   "outputs": [
    {
     "name": "stdout",
     "output_type": "stream",
     "text": [
      "headlines    0\n",
      "text         0\n",
      "dtype: int64\n"
     ]
    }
   ],
   "source": [
    "# 데이터 프레임에 NULL값 있는지 확인\n",
    "print(data.isnull().sum()) "
   ]
  },
  {
   "cell_type": "markdown",
   "id": "688bb005",
   "metadata": {},
   "source": [
    "### 2_2. 텍스트 정규화와 불용어 제거\n",
    "    텍스트 정규화 : 같은 의미인데 다른 표현으로 쓰여지는 단어를 통일 시켜주는 과정\n",
    "---\n",
    "#### 2_2_1.텍스트 정규화 사전 만들기"
   ]
  },
  {
   "cell_type": "code",
   "execution_count": 7,
   "id": "b261066d",
   "metadata": {},
   "outputs": [
    {
     "name": "stdout",
     "output_type": "stream",
     "text": [
      "정규화 사전의 수:  120\n"
     ]
    }
   ],
   "source": [
    "contractions = {\"ain't\": \"is not\", \"aren't\": \"are not\",\"can't\": \"cannot\", \"'cause\": \"because\", \"could've\": \"could have\", \"couldn't\": \"could not\",\n",
    "                           \"didn't\": \"did not\",  \"doesn't\": \"does not\", \"don't\": \"do not\", \"hadn't\": \"had not\", \"hasn't\": \"has not\", \"haven't\": \"have not\",\n",
    "                           \"he'd\": \"he would\",\"he'll\": \"he will\", \"he's\": \"he is\", \"how'd\": \"how did\", \"how'd'y\": \"how do you\", \"how'll\": \"how will\", \"how's\": \"how is\",\n",
    "                           \"I'd\": \"I would\", \"I'd've\": \"I would have\", \"I'll\": \"I will\", \"I'll've\": \"I will have\",\"I'm\": \"I am\", \"I've\": \"I have\", \"i'd\": \"i would\",\n",
    "                           \"i'd've\": \"i would have\", \"i'll\": \"i will\",  \"i'll've\": \"i will have\",\"i'm\": \"i am\", \"i've\": \"i have\", \"isn't\": \"is not\", \"it'd\": \"it would\",\n",
    "                           \"it'd've\": \"it would have\", \"it'll\": \"it will\", \"it'll've\": \"it will have\",\"it's\": \"it is\", \"let's\": \"let us\", \"ma'am\": \"madam\",\n",
    "                           \"mayn't\": \"may not\", \"might've\": \"might have\",\"mightn't\": \"might not\",\"mightn't've\": \"might not have\", \"must've\": \"must have\",\n",
    "                           \"mustn't\": \"must not\", \"mustn't've\": \"must not have\", \"needn't\": \"need not\", \"needn't've\": \"need not have\",\"o'clock\": \"of the clock\",\n",
    "                           \"oughtn't\": \"ought not\", \"oughtn't've\": \"ought not have\", \"shan't\": \"shall not\", \"sha'n't\": \"shall not\", \"shan't've\": \"shall not have\",\n",
    "                           \"she'd\": \"she would\", \"she'd've\": \"she would have\", \"she'll\": \"she will\", \"she'll've\": \"she will have\", \"she's\": \"she is\",\n",
    "                           \"should've\": \"should have\", \"shouldn't\": \"should not\", \"shouldn't've\": \"should not have\", \"so've\": \"so have\",\"so's\": \"so as\",\n",
    "                           \"this's\": \"this is\",\"that'd\": \"that would\", \"that'd've\": \"that would have\", \"that's\": \"that is\", \"there'd\": \"there would\",\n",
    "                           \"there'd've\": \"there would have\", \"there's\": \"there is\", \"here's\": \"here is\",\"they'd\": \"they would\", \"they'd've\": \"they would have\",\n",
    "                           \"they'll\": \"they will\", \"they'll've\": \"they will have\", \"they're\": \"they are\", \"they've\": \"they have\", \"to've\": \"to have\",\n",
    "                           \"wasn't\": \"was not\", \"we'd\": \"we would\", \"we'd've\": \"we would have\", \"we'll\": \"we will\", \"we'll've\": \"we will have\", \"we're\": \"we are\",\n",
    "                           \"we've\": \"we have\", \"weren't\": \"were not\", \"what'll\": \"what will\", \"what'll've\": \"what will have\", \"what're\": \"what are\",\n",
    "                           \"what's\": \"what is\", \"what've\": \"what have\", \"when's\": \"when is\", \"when've\": \"when have\", \"where'd\": \"where did\", \"where's\": \"where is\",\n",
    "                           \"where've\": \"where have\", \"who'll\": \"who will\", \"who'll've\": \"who will have\", \"who's\": \"who is\", \"who've\": \"who have\",\n",
    "                           \"why's\": \"why is\", \"why've\": \"why have\", \"will've\": \"will have\", \"won't\": \"will not\", \"won't've\": \"will not have\",\n",
    "                           \"would've\": \"would have\", \"wouldn't\": \"would not\", \"wouldn't've\": \"would not have\", \"y'all\": \"you all\",\n",
    "                           \"y'all'd\": \"you all would\",\"y'all'd've\": \"you all would have\",\"y'all're\": \"you all are\",\"y'all've\": \"you all have\",\n",
    "                           \"you'd\": \"you would\", \"you'd've\": \"you would have\", \"you'll\": \"you will\", \"you'll've\": \"you will have\",\n",
    "                           \"you're\": \"you are\", \"you've\": \"you have\"}\n",
    "\n",
    "print(\"정규화 사전의 수: \", len(contractions))"
   ]
  },
  {
   "cell_type": "markdown",
   "id": "96a0cc50",
   "metadata": {},
   "source": [
    "#### 2_2_2. 불용어 제거하기\n",
    "    불용어:텍스트에는 자주 등장하지만 자연어 처리 시 실질적으로 도움이 되지 않는 단어\n",
    "    ->NLTK에서 미리 정의하여 제공하고 있는 불용어(179개) 사용"
   ]
  },
  {
   "cell_type": "code",
   "execution_count": 8,
   "id": "9dda3677",
   "metadata": {},
   "outputs": [
    {
     "name": "stdout",
     "output_type": "stream",
     "text": [
      "불용어 개수 : 179\n",
      "['i', 'me', 'my', 'myself', 'we', 'our', 'ours', 'ourselves', 'you', \"you're\", \"you've\", \"you'll\", \"you'd\", 'your', 'yours', 'yourself', 'yourselves', 'he', 'him', 'his', 'himself', 'she', \"she's\", 'her', 'hers', 'herself', 'it', \"it's\", 'its', 'itself', 'they', 'them', 'their', 'theirs', 'themselves', 'what', 'which', 'who', 'whom', 'this', 'that', \"that'll\", 'these', 'those', 'am', 'is', 'are', 'was', 'were', 'be', 'been', 'being', 'have', 'has', 'had', 'having', 'do', 'does', 'did', 'doing', 'a', 'an', 'the', 'and', 'but', 'if', 'or', 'because', 'as', 'until', 'while', 'of', 'at', 'by', 'for', 'with', 'about', 'against', 'between', 'into', 'through', 'during', 'before', 'after', 'above', 'below', 'to', 'from', 'up', 'down', 'in', 'out', 'on', 'off', 'over', 'under', 'again', 'further', 'then', 'once', 'here', 'there', 'when', 'where', 'why', 'how', 'all', 'any', 'both', 'each', 'few', 'more', 'most', 'other', 'some', 'such', 'no', 'nor', 'not', 'only', 'own', 'same', 'so', 'than', 'too', 'very', 's', 't', 'can', 'will', 'just', 'don', \"don't\", 'should', \"should've\", 'now', 'd', 'll', 'm', 'o', 're', 've', 'y', 'ain', 'aren', \"aren't\", 'couldn', \"couldn't\", 'didn', \"didn't\", 'doesn', \"doesn't\", 'hadn', \"hadn't\", 'hasn', \"hasn't\", 'haven', \"haven't\", 'isn', \"isn't\", 'ma', 'mightn', \"mightn't\", 'mustn', \"mustn't\", 'needn', \"needn't\", 'shan', \"shan't\", 'shouldn', \"shouldn't\", 'wasn', \"wasn't\", 'weren', \"weren't\", 'won', \"won't\", 'wouldn', \"wouldn't\"]\n"
     ]
    }
   ],
   "source": [
    "print('불용어 개수 :', len(stopwords.words('english') ))\n",
    "print(stopwords.words('english'))"
   ]
  },
  {
   "cell_type": "markdown",
   "id": "d631b91c",
   "metadata": {},
   "source": [
    "#### 2_2_3. 데이터 전처리\n",
    "    - 모든 영어 문자를 소문자로 만듬\n",
    "    - 섞여있는 html 태그 제거\n",
    "    - 정규 표현식을 통해 각종 특수문자 제거\n",
    "    \n",
    "    -def preprocess_sentence()\n",
    "        * 하단 )NLTK를 이용해 불용어를 제거하는 파트가 있음\n",
    "        =>Text 전처리 시에서만 호출 & 상대적으로 문장 길이가 짧을  Summary 전처리할 때는 호출하지 않을 것\n",
    "        - 예측한 문장 요약 결과문이 자연스러원지기 위해 불용어들이  Summary에는 남아 있는 게 더 좋을 것 같음\n",
    "        \n",
    "#####  요약전 데이터는 불용어를 제거해주고 생성된 요약에서는 불용어를 제거해주지 않음  =>이유는 더 자연스러운 문장을 만들기 위해"
   ]
  },
  {
   "cell_type": "code",
   "execution_count": 9,
   "id": "03917d06",
   "metadata": {},
   "outputs": [],
   "source": [
    "# 데이터 전처리 함수\n",
    "def preprocess_sentence(sentence, remove_stopwords=True):\n",
    "    sentence = sentence.lower() # 텍스트 소문자화\n",
    "    sentence = BeautifulSoup(sentence, \"lxml\").text # <br />, <a href = ...> 등의 html 태그 제거\n",
    "    sentence = re.sub(r'\\([^)]*\\)', '', sentence) # 괄호로 닫힌 문자열 (...) 제거 Ex) my husband (and myself!) for => my husband for\n",
    "    sentence = re.sub('\"','', sentence) # 쌍따옴표 \" 제거\n",
    "    sentence = ' '.join([contractions[t] if t in contractions else t for t in sentence.split(\" \")]) # 약어 정규화\n",
    "    sentence = re.sub(r\"'s\\b\",\"\", sentence) # 소유격 제거. Ex) roland's -> roland\n",
    "    sentence = re.sub(\"[^a-zA-Z]\", \" \", sentence) # 영어 외 문자(숫자, 특수문자 등) 공백으로 변환\n",
    "    sentence = re.sub('[m]{2,}', 'mm', sentence) # m이 3개 이상이면 2개로 변경. Ex) ummmmmmm yeah -> umm yeah\n",
    "    \n",
    "    # 불용어 제거 (Text)\n",
    "    if remove_stopwords:\n",
    "        tokens = ' '.join(word for word in sentence.split() if not word in stopwords.words('english') if len(word) > 1)\n",
    "    # 불용어 미제거 (Summary)\n",
    "    else:\n",
    "        tokens = ' '.join(word for word in sentence.split() if len(word) > 1)\n",
    "    return tokens"
   ]
  },
  {
   "cell_type": "markdown",
   "id": "d43cd029",
   "metadata": {},
   "source": [
    "#### 2_2_4. 훈련 데이터 전처리 수행\n",
    "    :Text의 경우에는 불용어를 제거해야하고 Summary는 불용어를 제거하지 않은 상태에서 사용할 것임으로 따로 호출해서 진행해야 함"
   ]
  },
  {
   "cell_type": "code",
   "execution_count": 10,
   "id": "89a167d2",
   "metadata": {},
   "outputs": [
    {
     "name": "stdout",
     "output_type": "stream",
     "text": [
      "Text 전처리 후 결과:  ['saurav kant alumnus upgrad iiit pg program machine learning artificial intelligence sr systems engineer infosys almost years work experience program upgrad degree career support helped transition data scientist tech mahindra salary hike upgrad online power learning powered lakh careers', 'kunal shah credit card bill payment platform cred gave users chance win free food swiggy one year pranav kaushik delhi techie bagged reward spending cred coins users get one cred coin per rupee bill paid used avail rewards brands like ixigo bookmyshow ubereats cult fit', 'new zealand defeated india wickets fourth odi hamilton thursday win first match five match odi series india lost international match rohit sharma captaincy consecutive victories dating back march match witnessed india getting seventh lowest total odi cricket history', 'aegon life iterm insurance plan customers enjoy tax benefits premiums paid save taxes plan provides life cover age years also customers options insure critical illnesses disability accidental death benefit rider life cover age years', 'speaking sexual harassment allegations rajkumar hirani sonam kapoor said known hirani many years true metoo movement get derailed metoo movement always believe woman case need reserve judgment added hirani accused assistant worked sanju']\n"
     ]
    }
   ],
   "source": [
    "clean_text = []\n",
    "# 전체 Text 데이터에 대한 전처리 : 10분 이상 시간이 걸릴 수 있습니다. \n",
    "for s in data['text']:\n",
    "    clean_text.append(preprocess_sentence(s))\n",
    "\n",
    "# 전처리 후 출력\n",
    "print(\"Text 전처리 후 결과: \", clean_text[:5])"
   ]
  },
  {
   "cell_type": "code",
   "execution_count": 11,
   "id": "9b2c3ed6",
   "metadata": {},
   "outputs": [
    {
     "name": "stdout",
     "output_type": "stream",
     "text": [
      "headlines 전처리 후 결과:  ['upgrad learner switches to career in ml al with salary hike', 'delhi techie wins free food from swiggy for one year on cred', 'new zealand end rohit sharma led india match winning streak', 'aegon life iterm insurance plan helps customers save tax', 'have known hirani for yrs what if metoo claims are not true sonam']\n"
     ]
    }
   ],
   "source": [
    "#이제 headlines에 대해서 전처리 함수를 호출해 줄 때는, 불용어 제거를 수행하지 않는다는 의미에서 두 번째 인자로 False를 넣어줄게요.\n",
    "clean_headlines = []\n",
    "# 전체 headlines 데이터에 대한 전처리 : 5분 이상 시간이 걸릴 수 있습니다. \n",
    "for s in data['headlines']:\n",
    "    clean_headlines.append(preprocess_sentence(s, False))\n",
    "\n",
    "print(\"headlines 전처리 후 결과: \", clean_headlines[:5])"
   ]
  },
  {
   "cell_type": "markdown",
   "id": "681cc200",
   "metadata": {},
   "source": [
    "#### 2_2_5. 전처리 후 빈 샘플이 생겼는지 확인하기\n",
    "    이유) 데이터 정제 전에는 존재했지만, 정제 과정에서 문장의 모든 단어가 사라지면서 샘플 자체가 비어 버리는 경우가 있을 수 있기 때문이다.\n",
    "    \n",
    "---\n",
    "        \n",
    "    - 빈(empty) 값을 가진 샘플들이 있다면, 모두 Null 값을 가진 샘플로 대체\n",
    "    -.isnull().sum()을 이용하여 Null 값이 생성되었는지 확인\n",
    "    - 새로 생성된 Null 값을 dropna를 이용해서 제거한다."
   ]
  },
  {
   "cell_type": "code",
   "execution_count": 12,
   "id": "b1baddd0",
   "metadata": {},
   "outputs": [],
   "source": [
    "data['text'] = clean_text\n",
    "data['headlines'] = clean_headlines\n",
    "\n",
    "# 빈 값을 Null 값으로 변환\n",
    "data.replace('', np.nan, inplace=True) # 빈 값을 가진 샘플들은 모두 Null 값을 가진 샘플로 대체"
   ]
  },
  {
   "cell_type": "code",
   "execution_count": 13,
   "id": "661dbce1",
   "metadata": {},
   "outputs": [
    {
     "data": {
      "text/plain": [
       "headlines    0\n",
       "text         0\n",
       "dtype: int64"
      ]
     },
     "execution_count": 13,
     "metadata": {},
     "output_type": "execute_result"
    }
   ],
   "source": [
    "data.isnull().sum()"
   ]
  },
  {
   "cell_type": "code",
   "execution_count": 14,
   "id": "7980874b",
   "metadata": {},
   "outputs": [
    {
     "name": "stdout",
     "output_type": "stream",
     "text": [
      "전체 샘플수 : 98360\n"
     ]
    }
   ],
   "source": [
    "data.dropna(axis=0, inplace=True)\n",
    "print('전체 샘플수 :', (len(data)))"
   ]
  },
  {
   "cell_type": "markdown",
   "id": "a2a5a2d4",
   "metadata": {},
   "source": [
    "## 데이터 세트 나누기"
   ]
  },
  {
   "cell_type": "code",
   "execution_count": 15,
   "id": "c8ad188c",
   "metadata": {},
   "outputs": [
    {
     "name": "stdout",
     "output_type": "stream",
     "text": [
      "텍스트의 최소 길이 : 1\n",
      "텍스트의 최대 길이 : 60\n",
      "텍스트의 평균 길이 : 35.09968483123221\n",
      "헤드라인의 최소 길이 : 1\n",
      "헤드라인의 최대 길이 : 16\n",
      "헤드라인의 평균 길이 : 9.299532330215534\n"
     ]
    },
    {
     "data": {
      "image/png": "[encoded data removed]",
      "text/plain": [
       "<Figure size 432x288 with 2 Axes>"
      ]
     },
     "metadata": {
      "needs_background": "light"
     },
     "output_type": "display_data"
    },
    {
     "data": {
      "image/png": "[encoded data removed]",
      "text/plain": [
       "<Figure size 432x288 with 1 Axes>"
      ]
     },
     "metadata": {
      "needs_background": "light"
     },
     "output_type": "display_data"
    },
    {
     "data": {
      "image/png": "[encoded data removed]",
      "text/plain": [
       "<Figure size 432x288 with 1 Axes>"
      ]
     },
     "metadata": {
      "needs_background": "light"
     },
     "output_type": "display_data"
    }
   ],
   "source": [
    "# 길이 분포 출력\n",
    "import matplotlib.pyplot as plt\n",
    "\n",
    "text_len = [len(s.split()) for s in data['text']]\n",
    "summary_len = [len(s.split()) for s in data['headlines']]\n",
    "\n",
    "print('텍스트의 최소 길이 : {}'.format(np.min(text_len)))\n",
    "print('텍스트의 최대 길이 : {}'.format(np.max(text_len)))\n",
    "print('텍스트의 평균 길이 : {}'.format(np.mean(text_len)))\n",
    "print('헤드라인의 최소 길이 : {}'.format(np.min(summary_len)))\n",
    "print('헤드라인의 최대 길이 : {}'.format(np.max(summary_len)))\n",
    "print('헤드라인의 평균 길이 : {}'.format(np.mean(summary_len)))\n",
    "\n",
    "plt.subplot(1,2,1)\n",
    "plt.boxplot(text_len)\n",
    "plt.title('text')\n",
    "plt.subplot(1,2,2)\n",
    "plt.boxplot(summary_len)\n",
    "plt.title('headlines')\n",
    "plt.tight_layout()\n",
    "plt.show()\n",
    "\n",
    "plt.title('text')\n",
    "plt.hist(text_len, bins = 40)\n",
    "plt.xlabel('length of samples')\n",
    "plt.ylabel('number of samples')\n",
    "plt.show()\n",
    "\n",
    "plt.title('headlines')\n",
    "plt.hist(summary_len, bins = 40)\n",
    "plt.xlabel('length of samples')\n",
    "plt.ylabel('number of samples')\n",
    "plt.show()"
   ]
  },
  {
   "cell_type": "code",
   "execution_count": 48,
   "id": "2e10d6f0",
   "metadata": {},
   "outputs": [],
   "source": [
    "#수정해보기 한 42 랑 9로?\n",
    "text_max_len = 42\n",
    "headlines_max_len = 9"
   ]
  },
  {
   "cell_type": "code",
   "execution_count": 49,
   "id": "0936c502",
   "metadata": {},
   "outputs": [],
   "source": [
    "# 데이터의 몇 %에 해당하는지 계산하는 함수\n",
    "def below_threshold_len(max_len, nested_list):\n",
    "  cnt = 0\n",
    "  for s in nested_list:\n",
    "    if(len(s.split()) <= max_len):\n",
    "        cnt = cnt + 1\n",
    "  print('전체 샘플 중 길이가 %s 이하인 샘플의 비율: %s'%(max_len, (cnt / len(nested_list))))"
   ]
  },
  {
   "cell_type": "code",
   "execution_count": 50,
   "id": "24c04489",
   "metadata": {},
   "outputs": [
    {
     "name": "stdout",
     "output_type": "stream",
     "text": [
      "전체 샘플 중 길이가 42 이하인 샘플의 비율: 1.0\n",
      "전체 샘플 중 길이가 9 이하인 샘플의 비율: 0.6947315861920056\n"
     ]
    }
   ],
   "source": [
    "below_threshold_len(text_max_len, data['text'])\n",
    "below_threshold_len(headlines_max_len,  data['headlines'])"
   ]
  },
  {
   "cell_type": "code",
   "execution_count": 51,
   "id": "331f151c",
   "metadata": {},
   "outputs": [
    {
     "name": "stdout",
     "output_type": "stream",
     "text": [
      "전체 샘플수 : 51481\n"
     ]
    }
   ],
   "source": [
    "data = data[data['text'].apply(lambda x: len(x.split()) <= text_max_len)]\n",
    "data = data[data['headlines'].apply(lambda x: len(x.split()) <= headlines_max_len)]\n",
    "print('전체 샘플수 :', (len(data)))"
   ]
  },
  {
   "cell_type": "markdown",
   "id": "a45e2cfb",
   "metadata": {},
   "source": [
    "## 토큰 추가하기"
   ]
  },
  {
   "cell_type": "code",
   "execution_count": 52,
   "id": "b6aa2879",
   "metadata": {},
   "outputs": [
    {
     "data": {
      "text/html": [
       "<div>\n",
       "<style scoped>\n",
       "    .dataframe tbody tr th:only-of-type {\n",
       "        vertical-align: middle;\n",
       "    }\n",
       "\n",
       "    .dataframe tbody tr th {\n",
       "        vertical-align: top;\n",
       "    }\n",
       "\n",
       "    .dataframe thead th {\n",
       "        text-align: right;\n",
       "    }\n",
       "</style>\n",
       "<table border=\"1\" class=\"dataframe\">\n",
       "  <thead>\n",
       "    <tr style=\"text-align: right;\">\n",
       "      <th></th>\n",
       "      <th>headlines</th>\n",
       "      <th>text</th>\n",
       "      <th>decoder_input</th>\n",
       "      <th>decoder_target</th>\n",
       "    </tr>\n",
       "  </thead>\n",
       "  <tbody>\n",
       "    <tr>\n",
       "      <th>3</th>\n",
       "      <td>aegon life iterm insurance plan helps customer...</td>\n",
       "      <td>aegon life iterm insurance plan customers enjo...</td>\n",
       "      <td>sostoken aegon life iterm insurance plan helps...</td>\n",
       "      <td>aegon life iterm insurance plan helps customer...</td>\n",
       "    </tr>\n",
       "    <tr>\n",
       "      <th>10</th>\n",
       "      <td>up cousins fed human excreta for friendship wi...</td>\n",
       "      <td>two minor cousins uttar pradesh gorakhpur alle...</td>\n",
       "      <td>sostoken up cousins fed human excreta for frie...</td>\n",
       "      <td>up cousins fed human excreta for friendship wi...</td>\n",
       "    </tr>\n",
       "    <tr>\n",
       "      <th>18</th>\n",
       "      <td>how long can tolerate congress leaders potshot...</td>\n",
       "      <td>days threatened step post congress mlas contin...</td>\n",
       "      <td>sostoken how long can tolerate congress leader...</td>\n",
       "      <td>how long can tolerate congress leaders potshot...</td>\n",
       "    </tr>\n",
       "    <tr>\n",
       "      <th>19</th>\n",
       "      <td>odisha cm patnaik controls mining mafia union ...</td>\n",
       "      <td>union minister dharmendra pradhan wednesday cl...</td>\n",
       "      <td>sostoken odisha cm patnaik controls mining maf...</td>\n",
       "      <td>odisha cm patnaik controls mining mafia union ...</td>\n",
       "    </tr>\n",
       "    <tr>\n",
       "      <th>20</th>\n",
       "      <td>think the opposition even dreams about me pm modi</td>\n",
       "      <td>claiming dearth ideas among opposition parties...</td>\n",
       "      <td>sostoken think the opposition even dreams abou...</td>\n",
       "      <td>think the opposition even dreams about me pm m...</td>\n",
       "    </tr>\n",
       "  </tbody>\n",
       "</table>\n",
       "</div>"
      ],
      "text/plain": [
       "                                            headlines  \\\n",
       "3   aegon life iterm insurance plan helps customer...   \n",
       "10  up cousins fed human excreta for friendship wi...   \n",
       "18  how long can tolerate congress leaders potshot...   \n",
       "19  odisha cm patnaik controls mining mafia union ...   \n",
       "20  think the opposition even dreams about me pm modi   \n",
       "\n",
       "                                                 text  \\\n",
       "3   aegon life iterm insurance plan customers enjo...   \n",
       "10  two minor cousins uttar pradesh gorakhpur alle...   \n",
       "18  days threatened step post congress mlas contin...   \n",
       "19  union minister dharmendra pradhan wednesday cl...   \n",
       "20  claiming dearth ideas among opposition parties...   \n",
       "\n",
       "                                        decoder_input  \\\n",
       "3   sostoken aegon life iterm insurance plan helps...   \n",
       "10  sostoken up cousins fed human excreta for frie...   \n",
       "18  sostoken how long can tolerate congress leader...   \n",
       "19  sostoken odisha cm patnaik controls mining maf...   \n",
       "20  sostoken think the opposition even dreams abou...   \n",
       "\n",
       "                                       decoder_target  \n",
       "3   aegon life iterm insurance plan helps customer...  \n",
       "10  up cousins fed human excreta for friendship wi...  \n",
       "18  how long can tolerate congress leaders potshot...  \n",
       "19  odisha cm patnaik controls mining mafia union ...  \n",
       "20  think the opposition even dreams about me pm m...  "
      ]
     },
     "execution_count": 52,
     "metadata": {},
     "output_type": "execute_result"
    }
   ],
   "source": [
    "# 요약 데이터에는 시작 토큰과 종료 토큰을 추가한다.\n",
    "data['decoder_input'] = data['headlines'].apply(lambda x : 'sostoken '+ x)\n",
    "data['decoder_target'] = data['headlines'].apply(lambda x : x + ' eostoken')\n",
    "data.head()"
   ]
  },
  {
   "cell_type": "code",
   "execution_count": 53,
   "id": "aed4158d",
   "metadata": {},
   "outputs": [],
   "source": [
    "# 인코더의 입력, 디코더의 입력과 레이블을 넘파이 타입으로 저장\n",
    "\n",
    "encoder_input = np.array(data['text']) # 인코더의 입력\n",
    "decoder_input = np.array(data['decoder_input']) # 디코더의 입력\n",
    "decoder_target = np.array(data['decoder_target']) # 디코더의 레이블"
   ]
  },
  {
   "cell_type": "code",
   "execution_count": 54,
   "id": "1bd6ee48",
   "metadata": {},
   "outputs": [
    {
     "name": "stdout",
     "output_type": "stream",
     "text": [
      "[ 3902  6010 30351 ...  1426  7677 17143]\n"
     ]
    }
   ],
   "source": [
    "indices = np.arange(encoder_input.shape[0])\n",
    "np.random.shuffle(indices)\n",
    "print(indices)"
   ]
  },
  {
   "cell_type": "code",
   "execution_count": 55,
   "id": "dab7b81c",
   "metadata": {},
   "outputs": [
    {
     "name": "stdout",
     "output_type": "stream",
     "text": [
      "테스트 데이터의 수 : 10296\n"
     ]
    }
   ],
   "source": [
    "encoder_input = encoder_input[indices]\n",
    "decoder_input = decoder_input[indices]\n",
    "decoder_target = decoder_target[indices]\n",
    "\n",
    "n_of_val = int(len(encoder_input)*0.2)\n",
    "print('테스트 데이터의 수 :', n_of_val)"
   ]
  },
  {
   "cell_type": "code",
   "execution_count": 56,
   "id": "16e23cc0",
   "metadata": {},
   "outputs": [
    {
     "name": "stdout",
     "output_type": "stream",
     "text": [
      "훈련 데이터의 개수 : 41185\n",
      "훈련 레이블의 개수 : 41185\n",
      "테스트 데이터의 개수 : 10296\n",
      "테스트 레이블의 개수 : 10296\n"
     ]
    }
   ],
   "source": [
    "encoder_input_train = encoder_input[:-n_of_val]\n",
    "decoder_input_train = decoder_input[:-n_of_val]\n",
    "decoder_target_train = decoder_target[:-n_of_val]\n",
    "\n",
    "encoder_input_test = encoder_input[-n_of_val:]\n",
    "decoder_input_test = decoder_input[-n_of_val:]\n",
    "decoder_target_test = decoder_target[-n_of_val:]\n",
    "\n",
    "print('훈련 데이터의 개수 :', len(encoder_input_train))\n",
    "print('훈련 레이블의 개수 :', len(decoder_input_train))\n",
    "print('테스트 데이터의 개수 :', len(encoder_input_test))\n",
    "print('테스트 레이블의 개수 :', len(decoder_input_test))"
   ]
  },
  {
   "cell_type": "markdown",
   "id": "9d81d125",
   "metadata": {},
   "source": [
    "## 정수 인코딩"
   ]
  },
  {
   "cell_type": "code",
   "execution_count": 57,
   "id": "893f1c31",
   "metadata": {},
   "outputs": [],
   "source": [
    "src_tokenizer = Tokenizer() # 토크나이저 정의\n",
    "src_tokenizer.fit_on_texts(encoder_input_train) # 입력된 데이터로부터 단어 집합 생성"
   ]
  },
  {
   "cell_type": "code",
   "execution_count": 58,
   "id": "60baea6f",
   "metadata": {},
   "outputs": [
    {
     "name": "stdout",
     "output_type": "stream",
     "text": [
      "단어 집합(vocabulary)의 크기 : 53947\n",
      "등장 빈도가 7번 이하인 희귀 단어의 수: 38849\n",
      "단어 집합에서 희귀 단어를 제외시킬 경우의 단어 집합의 크기 15098\n",
      "단어 집합에서 희귀 단어의 비율: 72.01327228576196\n",
      "전체 등장 빈도에서 희귀 단어 등장 빈도 비율: 5.971195705955053\n"
     ]
    }
   ],
   "source": [
    "# 빈도수가 적은 단어 제거\n",
    "threshold = 8  # 빈도수\n",
    "total_cnt = len(src_tokenizer.word_index) # 단어의 수\n",
    "rare_cnt = 0 # 등장 빈도수가 threshold보다 작은 단어의 개수를 카운트\n",
    "total_freq = 0 # 훈련 데이터의 전체 단어 빈도수 총 합\n",
    "rare_freq = 0 # 등장 빈도수가 threshold보다 작은 단어의 등장 빈도수의 총 합\n",
    "\n",
    "# 단어와 빈도수의 쌍(pair)을 key와 value로 받는다.\n",
    "for key, value in src_tokenizer.word_counts.items():\n",
    "    total_freq = total_freq + value\n",
    "\n",
    "    # 단어의 등장 빈도수가 threshold보다 작으면\n",
    "    if(value < threshold):\n",
    "        rare_cnt = rare_cnt + 1\n",
    "        rare_freq = rare_freq + value\n",
    "\n",
    "print('단어 집합(vocabulary)의 크기 :', total_cnt)\n",
    "print('등장 빈도가 %s번 이하인 희귀 단어의 수: %s'%(threshold - 1, rare_cnt))\n",
    "print('단어 집합에서 희귀 단어를 제외시킬 경우의 단어 집합의 크기 %s'%(total_cnt - rare_cnt))\n",
    "print(\"단어 집합에서 희귀 단어의 비율:\", (rare_cnt / total_cnt)*100)\n",
    "print(\"전체 등장 빈도에서 희귀 단어 등장 빈도 비율:\", (rare_freq / total_freq)*100)"
   ]
  },
  {
   "cell_type": "code",
   "execution_count": 59,
   "id": "7c3ea91e",
   "metadata": {},
   "outputs": [
    {
     "name": "stdout",
     "output_type": "stream",
     "text": [
      "=3\n"
     ]
    }
   ],
   "source": [
    "src_vocab = 18000\n",
    "src_tokenizer = Tokenizer(num_words=src_vocab) # 단어 집합의 크기를 8,000으로 제한\n",
    "src_tokenizer.fit_on_texts(encoder_input_train) # 단어 집합 재생성\n",
    "print('=3')"
   ]
  },
  {
   "cell_type": "code",
   "execution_count": 60,
   "id": "b55613df",
   "metadata": {},
   "outputs": [
    {
     "name": "stdout",
     "output_type": "stream",
     "text": [
      "[[11306, 420, 11307, 1977, 14101, 629, 6, 16, 118, 40, 245, 1274, 414, 898, 79, 460, 277, 21, 352, 11307, 243, 286, 1157, 40, 14101, 7460, 8, 529, 676, 192, 3909], [5052, 1369, 9199, 456, 10348, 388, 12, 1736, 1586, 193, 12547, 5503, 128, 3630, 2536, 676, 7071, 7071, 8335, 60, 456, 5052, 985, 5411, 2793, 12, 1535, 2016, 309, 12547, 1, 83, 15099, 3511, 2909], [348, 5504, 459, 2190, 1907, 94, 25, 1018, 6191, 563, 1645, 1007, 459, 41, 11842, 5593, 3866, 146, 890, 49, 1907, 9, 784, 1346, 1512, 6312, 17782, 2069, 526, 90, 3910, 1007]]\n"
     ]
    }
   ],
   "source": [
    "# 텍스트 시퀀스를 정수 시퀀스로 변환\n",
    "encoder_input_train = src_tokenizer.texts_to_sequences(encoder_input_train) \n",
    "encoder_input_test = src_tokenizer.texts_to_sequences(encoder_input_test)\n",
    "\n",
    "# 잘 진행되었는지 샘플 출력\n",
    "print(encoder_input_train[:3])"
   ]
  },
  {
   "cell_type": "code",
   "execution_count": 61,
   "id": "66acb141",
   "metadata": {},
   "outputs": [],
   "source": [
    "tar_tokenizer = Tokenizer()\n",
    "tar_tokenizer.fit_on_texts(decoder_input_train)"
   ]
  },
  {
   "cell_type": "code",
   "execution_count": 62,
   "id": "c6fc34e3",
   "metadata": {},
   "outputs": [
    {
     "name": "stdout",
     "output_type": "stream",
     "text": [
      "단어 집합(vocabulary)의 크기 : 24125\n",
      "등장 빈도가 6번 이하인 희귀 단어의 수: 17522\n",
      "단어 집합에서 희귀 단어를 제외시킬 경우의 단어 집합의 크기 6603\n",
      "단어 집합에서 희귀 단어의 비율: 72.63005181347151\n",
      "전체 등장 빈도에서 희귀 단어 등장 빈도 비율: 9.486794498837416\n"
     ]
    }
   ],
   "source": [
    "threshold = 7\n",
    "total_cnt = len(tar_tokenizer.word_index) # 단어의 수\n",
    "rare_cnt = 0 # 등장 빈도수가 threshold보다 작은 단어의 개수를 카운트\n",
    "total_freq = 0 # 훈련 데이터의 전체 단어 빈도수 총 합\n",
    "rare_freq = 0 # 등장 빈도수가 threshold보다 작은 단어의 등장 빈도수의 총 합\n",
    "\n",
    "# 단어와 빈도수의 쌍(pair)을 key와 value로 받는다.\n",
    "for key, value in tar_tokenizer.word_counts.items():\n",
    "    total_freq = total_freq + value\n",
    "\n",
    "    # 단어의 등장 빈도수가 threshold보다 작으면\n",
    "    if(value < threshold):\n",
    "        rare_cnt = rare_cnt + 1\n",
    "        rare_freq = rare_freq + value\n",
    "\n",
    "print('단어 집합(vocabulary)의 크기 :', total_cnt)\n",
    "print('등장 빈도가 %s번 이하인 희귀 단어의 수: %s'%(threshold - 1, rare_cnt))\n",
    "print('단어 집합에서 희귀 단어를 제외시킬 경우의 단어 집합의 크기 %s'%(total_cnt - rare_cnt))\n",
    "print(\"단어 집합에서 희귀 단어의 비율:\", (rare_cnt / total_cnt)*100)\n",
    "print(\"전체 등장 빈도에서 희귀 단어 등장 빈도 비율:\", (rare_freq / total_freq)*100)"
   ]
  },
  {
   "cell_type": "code",
   "execution_count": 63,
   "id": "34d5c098",
   "metadata": {},
   "outputs": [
    {
     "name": "stdout",
     "output_type": "stream",
     "text": [
      "input\n",
      "input  [[1, 4205, 321, 6605, 442, 13, 26, 3, 605], [1, 3753, 5517, 342, 2174, 954, 7343, 126], [1, 3401, 630, 521, 3, 1172, 11, 1004, 1382], [1, 4763, 707, 85, 305, 11, 1247, 4456], [1, 56, 216, 31, 2735, 493, 2629, 6001]]\n",
      "target\n",
      "decoder  [[4205, 321, 6605, 442, 13, 26, 3, 605, 2], [3753, 5517, 342, 2174, 954, 7343, 126, 2], [3401, 630, 521, 3, 1172, 11, 1004, 1382, 2], [4763, 707, 85, 305, 11, 1247, 4456, 2], [56, 216, 31, 2735, 493, 2629, 6001, 2]]\n"
     ]
    }
   ],
   "source": [
    "tar_vocab = 8000\n",
    "tar_tokenizer = Tokenizer(num_words=tar_vocab) \n",
    "tar_tokenizer.fit_on_texts(decoder_input_train)\n",
    "tar_tokenizer.fit_on_texts(decoder_target_train)\n",
    "\n",
    "# 텍스트 시퀀스를 정수 시퀀스로 변환\n",
    "decoder_input_train = tar_tokenizer.texts_to_sequences(decoder_input_train) \n",
    "decoder_target_train = tar_tokenizer.texts_to_sequences(decoder_target_train)\n",
    "decoder_input_test = tar_tokenizer.texts_to_sequences(decoder_input_test)\n",
    "decoder_target_test = tar_tokenizer.texts_to_sequences(decoder_target_test)\n",
    "\n",
    "# 잘 변환되었는지 확인\n",
    "print('input')\n",
    "print('input ',decoder_input_train[:5])\n",
    "print('target')\n",
    "print('decoder ',decoder_target_train[:5])"
   ]
  },
  {
   "cell_type": "code",
   "execution_count": 64,
   "id": "109ee70f",
   "metadata": {},
   "outputs": [
    {
     "name": "stdout",
     "output_type": "stream",
     "text": [
      "삭제할 훈련 데이터의 개수 : 0\n",
      "삭제할 테스트 데이터의 개수 : 1\n",
      "훈련 데이터의 개수 : 41185\n",
      "훈련 레이블의 개수 : 41185\n",
      "테스트 데이터의 개수 : 10295\n",
      "테스트 레이블의 개수 : 10295\n"
     ]
    }
   ],
   "source": [
    "drop_train = [index for index, sentence in enumerate(decoder_input_train) if len(sentence) == 1]\n",
    "drop_test = [index for index, sentence in enumerate(decoder_input_test) if len(sentence) == 1]\n",
    "\n",
    "print('삭제할 훈련 데이터의 개수 :', len(drop_train))\n",
    "print('삭제할 테스트 데이터의 개수 :', len(drop_test))\n",
    "\n",
    "encoder_input_train = [sentence for index, sentence in enumerate(encoder_input_train) if index not in drop_train]\n",
    "decoder_input_train = [sentence for index, sentence in enumerate(decoder_input_train) if index not in drop_train]\n",
    "decoder_target_train = [sentence for index, sentence in enumerate(decoder_target_train) if index not in drop_train]\n",
    "\n",
    "encoder_input_test = [sentence for index, sentence in enumerate(encoder_input_test) if index not in drop_test]\n",
    "decoder_input_test = [sentence for index, sentence in enumerate(decoder_input_test) if index not in drop_test]\n",
    "decoder_target_test = [sentence for index, sentence in enumerate(decoder_target_test) if index not in drop_test]\n",
    "\n",
    "print('훈련 데이터의 개수 :', len(encoder_input_train))\n",
    "print('훈련 레이블의 개수 :', len(decoder_input_train))\n",
    "print('테스트 데이터의 개수 :', len(encoder_input_test))\n",
    "print('테스트 레이블의 개수 :', len(decoder_input_test))"
   ]
  },
  {
   "cell_type": "code",
   "execution_count": 65,
   "id": "53c2f7ca",
   "metadata": {},
   "outputs": [],
   "source": [
    "# 패딩하기\n",
    "encoder_input_train = pad_sequences(encoder_input_train, maxlen=text_max_len, padding='post')\n",
    "encoder_input_test = pad_sequences(encoder_input_test, maxlen=text_max_len, padding='post')\n",
    "decoder_input_train = pad_sequences(decoder_input_train, maxlen=headlines_max_len, padding='post')\n",
    "decoder_target_train = pad_sequences(decoder_target_train, maxlen=headlines_max_len, padding='post')\n",
    "decoder_input_test = pad_sequences(decoder_input_test, maxlen=headlines_max_len, padding='post')\n",
    "decoder_target_test = pad_sequences(decoder_target_test, maxlen=headlines_max_len, padding='post')"
   ]
  },
  {
   "cell_type": "markdown",
   "id": "fbce0c7b",
   "metadata": {},
   "source": [
    "# Step 3. 어텐션 메커니즘 사용하기 (추상적 요약)\n",
    "일반적인 seq2seq보다는 어텐션 메커니즘을 사용한 seq2seq를 사용하는 것이 더 나은 성능을 얻을 수 있어요. 실습 내용을 참고하여 어텐션 메커니즘을 사용한 seq2seq를 설계해 보세요."
   ]
  },
  {
   "cell_type": "code",
   "execution_count": 66,
   "id": "25dc0157",
   "metadata": {},
   "outputs": [
    {
     "name": "stdout",
     "output_type": "stream",
     "text": [
      "WARNING:tensorflow:Layer lstm_4 will not use cuDNN kernels since it doesn't meet the criteria. It will use a generic GPU kernel as fallback when running on GPU.\n",
      "WARNING:tensorflow:Layer lstm_5 will not use cuDNN kernels since it doesn't meet the criteria. It will use a generic GPU kernel as fallback when running on GPU.\n",
      "WARNING:tensorflow:Layer lstm_6 will not use cuDNN kernels since it doesn't meet the criteria. It will use a generic GPU kernel as fallback when running on GPU.\n"
     ]
    }
   ],
   "source": [
    "from tensorflow.keras.layers import Input, LSTM, Embedding, Dense, Concatenate, TimeDistributed\n",
    "from tensorflow.keras.models import Model\n",
    "from tensorflow.keras.callbacks import EarlyStopping, ModelCheckpoint\n",
    "\n",
    "\n",
    "# 인코더 설계 시작\n",
    "embedding_dim = 128\n",
    "hidden_size = 256 # hidden state는 LSTM에서 얼만큼의 수용력(capacity)를 가질지를 정하는 파라미터\n",
    "\n",
    "# 인코더\n",
    "encoder_inputs = Input(shape=(text_max_len,))\n",
    "\n",
    "# 인코더의 임베딩 층\n",
    "enc_emb = Embedding(src_vocab, embedding_dim)(encoder_inputs)\n",
    "\n",
    "# 인코더의 LSTM 1\n",
    "encoder_lstm1 = LSTM(hidden_size, return_sequences=True, return_state=True ,dropout = 0.4, recurrent_dropout = 0.4)\n",
    "encoder_output1, state_h1, state_c1 = encoder_lstm1(enc_emb)\n",
    "\n",
    "# 인코더의 LSTM 2\n",
    "encoder_lstm2 = LSTM(hidden_size, return_sequences=True, return_state=True, dropout=0.4, recurrent_dropout=0.4)\n",
    "encoder_output2, state_h2, state_c2 = encoder_lstm2(encoder_output1)\n",
    "\n",
    "# 인코더의 LSTM 3\n",
    "encoder_lstm3 = LSTM(hidden_size, return_state=True, return_sequences=True, dropout=0.4, recurrent_dropout=0.4)\n",
    "encoder_outputs, state_h, state_c= encoder_lstm3(encoder_output2)"
   ]
  },
  {
   "cell_type": "code",
   "execution_count": 67,
   "id": "e0e4caa9",
   "metadata": {},
   "outputs": [
    {
     "name": "stdout",
     "output_type": "stream",
     "text": [
      "WARNING:tensorflow:Layer lstm_7 will not use cuDNN kernels since it doesn't meet the criteria. It will use a generic GPU kernel as fallback when running on GPU.\n"
     ]
    }
   ],
   "source": [
    "# 디코더 설계\n",
    "decoder_inputs = Input(shape=(None,))\n",
    "\n",
    "# 디코더의 임베딩 층\n",
    "dec_emb_layer = Embedding(tar_vocab, embedding_dim)\n",
    "dec_emb = dec_emb_layer(decoder_inputs)\n",
    "\n",
    "# 디코더의 LSTM\n",
    "decoder_lstm = LSTM(hidden_size, return_sequences=True, return_state=True, dropout=0.4, recurrent_dropout=0.2)\n",
    "decoder_outputs, _, _ = decoder_lstm(dec_emb, initial_state=[state_h, state_c])"
   ]
  },
  {
   "cell_type": "code",
   "execution_count": 68,
   "id": "f21f63fd",
   "metadata": {},
   "outputs": [
    {
     "name": "stdout",
     "output_type": "stream",
     "text": [
      "Model: \"model_4\"\n",
      "__________________________________________________________________________________________________\n",
      "Layer (type)                    Output Shape         Param #     Connected to                     \n",
      "==================================================================================================\n",
      "input_6 (InputLayer)            [(None, 42)]         0                                            \n",
      "__________________________________________________________________________________________________\n",
      "embedding_2 (Embedding)         (None, 42, 128)      2304000     input_6[0][0]                    \n",
      "__________________________________________________________________________________________________\n",
      "lstm_4 (LSTM)                   [(None, 42, 256), (N 394240      embedding_2[0][0]                \n",
      "__________________________________________________________________________________________________\n",
      "input_7 (InputLayer)            [(None, None)]       0                                            \n",
      "__________________________________________________________________________________________________\n",
      "lstm_5 (LSTM)                   [(None, 42, 256), (N 525312      lstm_4[0][0]                     \n",
      "__________________________________________________________________________________________________\n",
      "embedding_3 (Embedding)         (None, None, 128)    1024000     input_7[0][0]                    \n",
      "__________________________________________________________________________________________________\n",
      "lstm_6 (LSTM)                   [(None, 42, 256), (N 525312      lstm_5[0][0]                     \n",
      "__________________________________________________________________________________________________\n",
      "lstm_7 (LSTM)                   [(None, None, 256),  394240      embedding_3[0][0]                \n",
      "                                                                 lstm_6[0][1]                     \n",
      "                                                                 lstm_6[0][2]                     \n",
      "__________________________________________________________________________________________________\n",
      "dense_2 (Dense)                 (None, None, 8000)   2056000     lstm_7[0][0]                     \n",
      "==================================================================================================\n",
      "Total params: 7,223,104\n",
      "Trainable params: 7,223,104\n",
      "Non-trainable params: 0\n",
      "__________________________________________________________________________________________________\n"
     ]
    }
   ],
   "source": [
    "# 디코더의 출력층\n",
    "decoder_softmax_layer = Dense(tar_vocab, activation='softmax')\n",
    "decoder_softmax_outputs = decoder_softmax_layer(decoder_outputs) \n",
    "\n",
    "# 모델 정의\n",
    "model = Model([encoder_inputs, decoder_inputs], decoder_softmax_outputs)\n",
    "model.summary()"
   ]
  },
  {
   "cell_type": "code",
   "execution_count": 69,
   "id": "50f4ceb1",
   "metadata": {},
   "outputs": [
    {
     "name": "stdout",
     "output_type": "stream",
     "text": [
      "Model: \"model_5\"\n",
      "__________________________________________________________________________________________________\n",
      "Layer (type)                    Output Shape         Param #     Connected to                     \n",
      "==================================================================================================\n",
      "input_6 (InputLayer)            [(None, 42)]         0                                            \n",
      "__________________________________________________________________________________________________\n",
      "embedding_2 (Embedding)         (None, 42, 128)      2304000     input_6[0][0]                    \n",
      "__________________________________________________________________________________________________\n",
      "lstm_4 (LSTM)                   [(None, 42, 256), (N 394240      embedding_2[0][0]                \n",
      "__________________________________________________________________________________________________\n",
      "input_7 (InputLayer)            [(None, None)]       0                                            \n",
      "__________________________________________________________________________________________________\n",
      "lstm_5 (LSTM)                   [(None, 42, 256), (N 525312      lstm_4[0][0]                     \n",
      "__________________________________________________________________________________________________\n",
      "embedding_3 (Embedding)         (None, None, 128)    1024000     input_7[0][0]                    \n",
      "__________________________________________________________________________________________________\n",
      "lstm_6 (LSTM)                   [(None, 42, 256), (N 525312      lstm_5[0][0]                     \n",
      "__________________________________________________________________________________________________\n",
      "lstm_7 (LSTM)                   [(None, None, 256),  394240      embedding_3[0][0]                \n",
      "                                                                 lstm_6[0][1]                     \n",
      "                                                                 lstm_6[0][2]                     \n",
      "__________________________________________________________________________________________________\n",
      "attention_layer (AdditiveAttent (None, None, 256)    256         lstm_7[0][0]                     \n",
      "                                                                 lstm_6[0][0]                     \n",
      "__________________________________________________________________________________________________\n",
      "concat_layer (Concatenate)      (None, None, 512)    0           lstm_7[0][0]                     \n",
      "                                                                 attention_layer[0][0]            \n",
      "__________________________________________________________________________________________________\n",
      "dense_3 (Dense)                 (None, None, 8000)   4104000     concat_layer[0][0]               \n",
      "==================================================================================================\n",
      "Total params: 9,271,360\n",
      "Trainable params: 9,271,360\n",
      "Non-trainable params: 0\n",
      "__________________________________________________________________________________________________\n"
     ]
    }
   ],
   "source": [
    "from tensorflow.keras.layers import AdditiveAttention\n",
    "\n",
    "# 어텐션 층(어텐션 함수)\n",
    "attn_layer = AdditiveAttention(name='attention_layer')\n",
    "\n",
    "# 인코더와 디코더의 모든 time step의 hidden state를 어텐션 층에 전달하고 결과를 리턴\n",
    "attn_out = attn_layer([decoder_outputs, encoder_outputs])\n",
    "\n",
    "\n",
    "# 어텐션의 결과와 디코더의 hidden state들을 연결\n",
    "decoder_concat_input = Concatenate(axis=-1, name='concat_layer')([decoder_outputs, attn_out])\n",
    "\n",
    "# 디코더의 출력층\n",
    "decoder_softmax_layer = Dense(tar_vocab, activation='softmax')\n",
    "decoder_softmax_outputs = decoder_softmax_layer(decoder_concat_input)\n",
    "\n",
    "# 모델 정의\n",
    "model = Model([encoder_inputs, decoder_inputs], decoder_softmax_outputs)\n",
    "model.summary()"
   ]
  },
  {
   "cell_type": "markdown",
   "id": "0a24d4a1",
   "metadata": {},
   "source": [
    "### EarlyStopping(조기 종료)\n",
    "    - 코드에서 val_loss(검증 데이터 손실)이 줄어들지 않고 증가하는 현상이 patience(=2) 횟수 만큼 관측되면 학습을 멈추도록함\n",
    "    - epochs가 크게 설정되어 있어도 모델 훈련을 최적점에서 멈출수 있게 됨\n"
   ]
  },
  {
   "cell_type": "code",
   "execution_count": 70,
   "id": "7e72e386",
   "metadata": {},
   "outputs": [
    {
     "name": "stdout",
     "output_type": "stream",
     "text": [
      "Epoch 1/50\n",
      "161/161 [==============================] - 98s 560ms/step - loss: 6.5211 - val_loss: 6.0943\n",
      "Epoch 2/50\n",
      "161/161 [==============================] - 89s 556ms/step - loss: 6.0315 - val_loss: 5.8166\n",
      "Epoch 3/50\n",
      "161/161 [==============================] - 89s 552ms/step - loss: 5.7740 - val_loss: 5.5874\n",
      "Epoch 4/50\n",
      "161/161 [==============================] - 90s 556ms/step - loss: 5.5084 - val_loss: 5.3922\n",
      "Epoch 5/50\n",
      "161/161 [==============================] - 89s 554ms/step - loss: 5.2757 - val_loss: 5.2095\n",
      "Epoch 6/50\n",
      "161/161 [==============================] - 89s 552ms/step - loss: 5.0622 - val_loss: 5.0631\n",
      "Epoch 7/50\n",
      "161/161 [==============================] - 89s 555ms/step - loss: 4.8732 - val_loss: 4.9721\n",
      "Epoch 8/50\n",
      "161/161 [==============================] - 89s 554ms/step - loss: 4.7086 - val_loss: 4.8658\n",
      "Epoch 9/50\n",
      "161/161 [==============================] - 89s 554ms/step - loss: 4.5566 - val_loss: 4.7957\n",
      "Epoch 10/50\n",
      "161/161 [==============================] - 88s 546ms/step - loss: 4.4164 - val_loss: 4.7454\n",
      "Epoch 11/50\n",
      "161/161 [==============================] - 88s 547ms/step - loss: 4.2855 - val_loss: 4.6885\n",
      "Epoch 12/50\n",
      "161/161 [==============================] - 88s 546ms/step - loss: 4.1677 - val_loss: 4.6472\n",
      "Epoch 13/50\n",
      "161/161 [==============================] - 89s 554ms/step - loss: 4.0553 - val_loss: 4.6025\n",
      "Epoch 14/50\n",
      "161/161 [==============================] - 89s 553ms/step - loss: 3.9511 - val_loss: 4.5691\n",
      "Epoch 15/50\n",
      "161/161 [==============================] - 89s 555ms/step - loss: 3.8556 - val_loss: 4.5505\n",
      "Epoch 16/50\n",
      "161/161 [==============================] - 89s 555ms/step - loss: 3.7597 - val_loss: 4.5273\n",
      "Epoch 17/50\n",
      "161/161 [==============================] - 89s 555ms/step - loss: 3.6721 - val_loss: 4.5249\n",
      "Epoch 18/50\n",
      "161/161 [==============================] - 89s 552ms/step - loss: 3.5861 - val_loss: 4.5049\n",
      "Epoch 19/50\n",
      "161/161 [==============================] - 90s 556ms/step - loss: 3.5066 - val_loss: 4.4916\n",
      "Epoch 20/50\n",
      "161/161 [==============================] - 89s 554ms/step - loss: 3.4330 - val_loss: 4.4929\n",
      "Epoch 21/50\n",
      "161/161 [==============================] - 89s 551ms/step - loss: 3.3609 - val_loss: 4.4777\n",
      "Epoch 22/50\n",
      "161/161 [==============================] - 88s 549ms/step - loss: 3.2919 - val_loss: 4.4824\n",
      "Epoch 23/50\n",
      "161/161 [==============================] - 89s 554ms/step - loss: 3.2252 - val_loss: 4.4839\n",
      "Epoch 00023: early stopping\n"
     ]
    }
   ],
   "source": [
    "model.compile(optimizer='rmsprop', loss='sparse_categorical_crossentropy')\n",
    "es = EarlyStopping(monitor='val_loss', patience=2, verbose=1)\n",
    "history = model.fit(x=[encoder_input_train, decoder_input_train], y=decoder_target_train, \\\n",
    "          validation_data=([encoder_input_test, decoder_input_test], decoder_target_test), \\\n",
    "          batch_size=256, callbacks=[es], epochs=50)"
   ]
  },
  {
   "cell_type": "code",
   "execution_count": 71,
   "id": "ad3793c1",
   "metadata": {},
   "outputs": [
    {
     "data": {
      "image/png": "[encoded data removed]",
      "text/plain": [
       "<Figure size 432x288 with 1 Axes>"
      ]
     },
     "metadata": {
      "needs_background": "light"
     },
     "output_type": "display_data"
    }
   ],
   "source": [
    "plt.plot(history.history['loss'], label='train')\n",
    "plt.plot(history.history['val_loss'], label='test')\n",
    "plt.legend()\n",
    "plt.show()"
   ]
  },
  {
   "cell_type": "markdown",
   "id": "db85b014",
   "metadata": {},
   "source": [
    "## 인퍼런스 모델 구현하기\n"
   ]
  },
  {
   "cell_type": "code",
   "execution_count": 72,
   "id": "f57a4e97",
   "metadata": {},
   "outputs": [],
   "source": [
    "src_index_to_word = src_tokenizer.index_word # 원문 단어 집합에서 정수 -> 단어를 얻음\n",
    "tar_word_to_index = tar_tokenizer.word_index # 요약 단어 집합에서 단어 -> 정수를 얻음\n",
    "tar_index_to_word = tar_tokenizer.index_word # 요약 단어 집합에서 정수 -> 단어를 얻음"
   ]
  },
  {
   "cell_type": "code",
   "execution_count": 73,
   "id": "1dcb3c6a",
   "metadata": {},
   "outputs": [],
   "source": [
    "# 인코더 설계\n",
    "encoder_model = Model(inputs=encoder_inputs, outputs=[encoder_outputs, state_h, state_c])\n",
    "\n",
    "# 이전 시점의 상태들을 저장하는 텐서\n",
    "decoder_state_input_h = Input(shape=(hidden_size,))\n",
    "decoder_state_input_c = Input(shape=(hidden_size,))\n",
    "\n",
    "dec_emb2 = dec_emb_layer(decoder_inputs)\n",
    "\n",
    "# 문장의 다음 단어를 예측하기 위해서 초기 상태(initial_state)를 이전 시점의 상태로 사용. 이는 뒤의 함수 decode_sequence()에 구현\n",
    "# 훈련 과정에서와 달리 LSTM의 리턴하는 은닉 상태와 셀 상태인 state_h와 state_c를 버리지 않음.\n",
    "decoder_outputs2, state_h2, state_c2 = decoder_lstm(dec_emb2, initial_state=[decoder_state_input_h, decoder_state_input_c])"
   ]
  },
  {
   "cell_type": "code",
   "execution_count": 74,
   "id": "386a3962",
   "metadata": {},
   "outputs": [],
   "source": [
    "# 어텐션 함수\n",
    "decoder_hidden_state_input = Input(shape=(text_max_len, hidden_size))\n",
    "attn_out_inf = attn_layer([decoder_outputs2, decoder_hidden_state_input])\n",
    "decoder_inf_concat = Concatenate(axis=-1, name='concat')([decoder_outputs2, attn_out_inf])\n",
    "\n",
    "# 디코더의 출력층\n",
    "decoder_outputs2 = decoder_softmax_layer(decoder_inf_concat) \n",
    "\n",
    "# 최종 디코더 모델\n",
    "decoder_model = Model(\n",
    "    [decoder_inputs] + [decoder_hidden_state_input,decoder_state_input_h, decoder_state_input_c],\n",
    "    [decoder_outputs2] + [state_h2, state_c2])\n"
   ]
  },
  {
   "cell_type": "code",
   "execution_count": 75,
   "id": "92d3cbf4",
   "metadata": {},
   "outputs": [],
   "source": [
    "def decode_sequence(input_seq):\n",
    "    # 입력으로부터 인코더의 상태를 얻음\n",
    "    e_out, e_h, e_c = encoder_model.predict(input_seq)\n",
    "\n",
    "     # <SOS>에 해당하는 토큰 생성\n",
    "    target_seq = np.zeros((1,1))\n",
    "    target_seq[0, 0] = tar_word_to_index['sostoken']\n",
    "\n",
    "    stop_condition = False\n",
    "    decoded_sentence = ''\n",
    "    while not stop_condition: # stop_condition이 True가 될 때까지 루프 반복\n",
    "\n",
    "        output_tokens, h, c = decoder_model.predict([target_seq] + [e_out, e_h, e_c])\n",
    "        sampled_token_index = np.argmax(output_tokens[0, -1, :])\n",
    "        sampled_token = tar_index_to_word[sampled_token_index]\n",
    "\n",
    "        if (sampled_token!='eostoken'):\n",
    "            decoded_sentence += ' '+sampled_token\n",
    "\n",
    "        #  <eos>에 도달하거나 최대 길이를 넘으면 중단.\n",
    "        if (sampled_token == 'eostoken'  or len(decoded_sentence.split()) >= (headlines_max_len-1)):\n",
    "            stop_condition = True\n",
    "\n",
    "        # 길이가 1인 타겟 시퀀스를 업데이트\n",
    "        target_seq = np.zeros((1,1))\n",
    "        target_seq[0, 0] = sampled_token_index\n",
    "\n",
    "        # 상태를 업데이트 합니다.\n",
    "        e_h, e_c = h, c\n",
    "\n",
    "    return decoded_sentence"
   ]
  },
  {
   "cell_type": "markdown",
   "id": "34a5b2a9",
   "metadata": {},
   "source": [
    "# Step 4. 실제 결과와 요약문 비교하기 (추상적 요약)\n",
    "원래의 요약문(headlines 열)과 학습을 통해 얻은 추상적 요약의 결과를 비교해 보세요."
   ]
  },
  {
   "cell_type": "code",
   "execution_count": 76,
   "id": "e2cddfb9",
   "metadata": {},
   "outputs": [],
   "source": [
    "# 원문의 정수 시퀀스를 텍스트 시퀀스로 변환\n",
    "def seq2text(input_seq):\n",
    "    temp=''\n",
    "    for i in input_seq:\n",
    "        if (i!=0):\n",
    "            temp = temp + src_index_to_word[i]+' '\n",
    "    return temp\n",
    "\n",
    "# 요약문의 정수 시퀀스를 텍스트 시퀀스로 변환\n",
    "def seq2summary(input_seq):\n",
    "    temp=''\n",
    "    for i in input_seq:\n",
    "        if ((i!=0 and i!=tar_word_to_index['sostoken']) and i!=tar_word_to_index['eostoken']):\n",
    "            temp = temp + tar_index_to_word[i] + ' '\n",
    "    return temp"
   ]
  },
  {
   "cell_type": "markdown",
   "id": "27a21fba",
   "metadata": {},
   "source": [
    "테스트 데이터 약 50개의 샘플에 대해 실제 요약과 예측 요약을 비교"
   ]
  },
  {
   "cell_type": "code",
   "execution_count": 77,
   "id": "14dcbbdf",
   "metadata": {},
   "outputs": [
    {
     "name": "stdout",
     "output_type": "stream",
     "text": [
      "원문 : least people lost lives three days continuous heavy rainfall karnataka flood like situation state due increased water level krishna rivers landslides reported many districts along several instances severed road links submerged bridges \n",
      "실제 요약 : heavy rainfall claims lives in karnataka \n",
      "예측 요약 :  killed in assam floods in assam\n",
      "\n",
      "\n",
      "원문 : study found water brahmaputra river could turning black due recent earthquake tibet union minister arjun ram meghwal said river southern tibet becomes brahmaputra enters arunachal pradesh central water commission started looking matter minister added \n",
      "실제 요약 : brahmaputra water turning black due to tibet quake minister \n",
      "예측 요약 :  scientists identify green plant plant\n",
      "\n",
      "\n",
      "원문 : group volunteers charged offences us city el feeding homeless people park police said volunteers violated ordinance passed october prohibiting food sharing homeless individuals public spaces ban aims tackle outbreak hepatitis killed people \n",
      "실제 요약 : police charge volunteers for feeding homeless in us \n",
      "예측 요약 :  london mayor to be sold for\n",
      "\n",
      "\n",
      "원문 : us headquartered fintech startup founded iit madras alumnus raised million funding led growth equity saas company cash flow automation payments processes across credit collections cash application electronic billing payment processing \n",
      "실제 요약 : iit madras alumnus fintech startup raises mn \n",
      "예측 요약 :  food startup raises mn from\n",
      "\n",
      "\n",
      "원문 : deepika padukone female feature twitter list ten followed indians ranked seventh million followers prime minister narendra modi topped list million followers seven top ten people list bollywood celebrities including actors like shah rukh khan aamir khan \n",
      "실제 요약 : deepika only female on twitter most followed indians \n",
      "예측 요약 :  deepika padukone tweets worth crore in\n",
      "\n",
      "\n",
      "원문 : industrial pollution turned water near steel plant italian port city red colour iron dust process combined heavy rainfall believed cause red water plant former owners accused negligence toxic emissions ongoing lawsuit \n",
      "실제 요약 : industrial pollution turns water red in italian city \n",
      "예측 요약 :  bengaluru civic body to be converted into\n",
      "\n",
      "\n",
      "원문 : madhuri dixit play lead role film directorial debut ayushmann khurrana wife tahira kashyap reports suggested madhuri character something attempted actress play daughter soon finalised well stated reports earlier talking project tahira said dreams come true \n",
      "실제 요약 : madhuri to star in ayushmann wife directorial reports \n",
      "예측 요약 :  ayushmann to star in star in film reports\n",
      "\n",
      "\n",
      "원문 : ruling adjournments case filed bombay high court judge said pe enough enough court also imposed lakh fine charitable trust failing file affidavit since even shocking trust utterly negligent observed \n",
      "실제 요약 : no more bombay hc over case \n",
      "예측 요약 :  hc dismisses fir against for remarks\n",
      "\n",
      "\n",
      "원문 : singapore airlines flight singapore kolkata made emergency landing kolkata airport intervening night saturday sunday following technical glitch aircraft landing gear faced technical glitch led fuel leakage meanwhile passengers reported safe \n",
      "실제 요약 : flight makes emergency landing in kolkata after fuel \n",
      "예측 요약 :  flight makes emergency landing after landing\n",
      "\n",
      "\n",
      "원문 : twitter handle government digital services arm shared picture ms dhoni aadhaar application form prompting wife sakshi complain minister ravi shankar prasad sakshi tweeted privacy left information card including application made public prasad replied picture leaking information sakshi clarified form \n",
      "실제 요약 : govt shares dhoni aadhaar info on twitter wife complains \n",
      "예측 요약 :  twitter reacts to user on twitter\n",
      "\n",
      "\n",
      "원문 : union minister minority affairs mukhtar abbas naqvi wednesday unfurled india highest tricolour installed terrace building haj house mumbai measuring feet flag erected height metres top building also enhance pride mumbai neighbouring regions minister said \n",
      "실제 요약 : india highest tricolour on terrace in mumbai \n",
      "예측 요약 :  rajnath singh inaugurates india most polluted cities\n",
      "\n",
      "\n",
      "원문 : railway ministry friday floated tender additional foot bridge elphinstone station mumbai people killed stampede existing foot bridge foot wide bridge announced railway budget cost approximately crore expected made operational early \n",
      "실제 요약 : govt floats tender for overbridge after stampede at station \n",
      "예측 요약 :  mumbai elphinstone bridge bridge built in mumbai\n",
      "\n",
      "\n",
      "원문 : haryana cm manohar lal khattar reporter said first learn media reporter asked delay grievances received digital platform cm window haryana responding khattar said media job ask questions accuse government said media medium \n",
      "실제 요약 : go learn first haryana cm reporter \n",
      "예측 요약 :  kerala cm slams kerala for hanuman\n",
      "\n",
      "\n",
      "원문 : year old man died falling bridge chennai airport monday police said man pronounced dead spot suddenly slipped standing bridge police added deceased hailed vijayawada andhra pradesh reportedly working bengaluru company \n",
      "실제 요약 : man dies after falling off bridge at chennai airport \n",
      "예측 요약 :  man dies after falling at storey building\n",
      "\n",
      "\n",
      "원문 : washington among nominees best actor leading role category oscars roman israel received nomination call name daniel day lewis nominated phantom thread nominees include daniel get gary darkest hour \n",
      "실제 요약 : who are the for best actor at oscars \n",
      "예측 요약 :  india releases highest ever prize in india\n",
      "\n",
      "\n",
      "원문 : cabinet minister chaudhary said taj mahal excluded tourism booklet released state government earlier month claiming monument represent religion said exclusion necessary government runs religious policies claimed monument replaced guru \n",
      "실제 요약 : taj mahal excluded from up tourism minister \n",
      "예측 요약 :  goa cm manohar parrikar appointed as tourism minister\n",
      "\n",
      "\n",
      "원문 : french president emmanuel macron filed legal complaint photographer allegedly spotted property along wife macron macron sued photographer harassment invasion privacy press office said photographer detained police identity check followed macron motorcade twice \n",
      "실제 요약 : french prez sues photographer who him on holiday \n",
      "예측 요약 :  ex prez resigns after sexual harassment claims\n",
      "\n",
      "\n",
      "원문 : year old british man raised middle finger another driver dubai could face six month jail term arrested offensive behaviour kind thing happens england time go jail man said offensive insulting behaviour considered crime uae \n",
      "실제 요약 : faces prison in dubai for showing middle finger \n",
      "예측 요약 :  man steals crore on shooting robbery in us\n",
      "\n",
      "\n",
      "원문 : partial carried bring michigan us go planned charges failed go demolition company said may set unexploded charges later week point gravity gonna take gonna rip everything added \n",
      "실제 요약 : video demolition blast fails to bring down us stadium \n",
      "예측 요약 :  giant weighing into york\n",
      "\n",
      "\n",
      "원문 : study led australian researchers created floating substance acts like absorb oil sea water recover oil polymer made sulphur petroleum cooking oil researchers collaborating several firms develop product larger scale tackling oil \n",
      "실제 요약 : scientists create super that oil spills \n",
      "예측 요약 :  scientists generate carbon plant of the pollution\n",
      "\n",
      "\n",
      "원문 : picture actor sanjay dutt posing cast upcoming film golmaal shared actor ajay devgn twitter original read caption alongside picture actors arshad warsi parineeti chopra tabu kunal kemmu shreyas talpade tusshar kapoor seen picture along film director rohit shetty \n",
      "실제 요약 : pic shows sanjay dutt with the cast of golmaal \n",
      "예측 요약 :  arjun wishes wishes dhoni on his birthday birthday\n",
      "\n",
      "\n",
      "원문 : england devised bowling tactic counter bradman batting australia tour ashes tour started december came known series controversial bowling tactics involved bowling short fast pitched deliveries line leg stump physically threatening batsmen \n",
      "실제 요약 : why was the bowling technique \n",
      "예측 요약 :  smith to be in the\n",
      "\n",
      "\n",
      "원문 : bengaluru based bike scooter sharing startup bounce raised nearly crore funding round investors including ventures sequoia india accel india startup raised million series round august led sequoia india founded bounce offers bike first last mile transportation \n",
      "실제 요약 : bengaluru bike sharing startup raises crore \n",
      "예측 요약 :  bengaluru based startup gets mn from series\n",
      "\n",
      "\n",
      "원문 : reacting congress claim us president donald trump opposed prime minister narendra modi recent visit going viral union urban development minister venkaiah naidu thursday said congress viral party opposition perhaps happened dreams president trump seen according warm welcome pm modi added \n",
      "실제 요약 : congress is viral party union minister venkaiah naidu \n",
      "예측 요약 :  pm modi to modi prime minister\n",
      "\n",
      "\n",
      "원문 : girls studying school uttar pradesh meerut accused warden dressing ghost molesting night written complaint district magistrate girls claimed warden walks around premises touches inappropriately however warden denied allegations demanded probe matter \n",
      "실제 요약 : students accuse of as ghost molesting them \n",
      "예측 요약 :  girls girls girls at gurugram school in odisha\n",
      "\n",
      "\n",
      "원문 : mit engineers devised way create structures objects one original volume technique called larger structure made expanded shaped lasers allows creating desired objects precision said researcher \n",
      "실제 요약 : mit develops technique to objects fold into \n",
      "예측 요약 :  mit researchers develop new technology\n",
      "\n",
      "\n",
      "원문 : antigua barbuda authorities confirmed mehul choksi accused billion pnb scam granted citizenship november choksi took oath allegiance antigua january year two weeks cbi filed first case authorities said choksi application subject robust due diligence international investigation \n",
      "실제 요약 : mehul choksi granted antigua citizenship in november \n",
      "예측 요약 :  pnb raids pnb in india choksi antigua lawyer\n",
      "\n",
      "\n",
      "원문 : supreme court tuesday held minimum six month cooling period granting divorce hindu law waived trial court reconciliation efforts failed court use case decide whether delaying proceedings subsequent resettlement added \n",
      "실제 요약 : month cooling period for divorce can be sc \n",
      "예측 요약 :  sc refuses to take into sc\n",
      "\n",
      "\n",
      "원문 : russia deploy disputed island near japan russian pm dmitry allowed nation air force use civilian airport island part group four russian occupied islands seized end wwii japan termed russia move attempt increase military power islands \n",
      "실제 요약 : russia to deploy on island near japan \n",
      "예측 요약 :  russia to build military military to military\n",
      "\n",
      "\n",
      "원문 : apparent dig bjp shiv sena chief uddhav thackeray tuesday asked emergency approaching today silent thackeray addressing reporters two functions mumbai also said journalists shy away using harsh words criticising intention criticism pure \n",
      "실제 요약 : emergency should we keep silent sena \n",
      "예측 요약 :  kamal haasan calls bjp for his politics\n",
      "\n",
      "\n",
      "원문 : thane police filed chargesheet underworld gangster dawood ibrahim two brothers extortion case filed builder last year builder alleged accused crore threatening police officials said chargesheet includes thousands pages lists payment proofs \n",
      "실제 요약 : chargesheet against dawood and brothers in extortion case \n",
      "예측 요약 :  gangster accused in lynching case acquitted in bihar\n",
      "\n",
      "\n",
      "원문 : british woman left paralysed sustained spinal injury sex believes caused defective bed back bed head hit floor heard like spring body snap woman suing suppliers bed said \n",
      "실제 요약 : woman paralysed after being from bed during sex \n",
      "예측 요약 :  couple attacks on us to buy weed\n",
      "\n",
      "\n",
      "원문 : us president donald trump lawyer michael cohen claimed paid lakh pocket pornstar stormy daniels silence alleged sexual affair trump added reimbursed trump organisation payment last month daniels claimed affair never occurred later statement day \n",
      "실제 요약 : paid for pornstar silence from own pocket trump lawyer \n",
      "예측 요약 :  pornstar lawyer to pornstar pornstar for pornstar reports\n",
      "\n",
      "\n",
      "원문 : chris gayle became first batsman score runs cricket tuesday celebrated fifty gujarat lions salt bae celebration gayle smashed six kaushik ball score first fifty ipl went knees viral salt gesture bat \n",
      "실제 요약 : video gayle celebrates his with salt celebration \n",
      "예측 요약 :  pollard takes wickets to score in county match\n",
      "\n",
      "\n",
      "원문 : union minister nitin gadkari alleged campaign opposition section media twist statements conspiracies create bjp leadership never succeed added comes remark leadership linked bjp defeat three states \n",
      "실제 요약 : opposition parties media my remarks gadkari \n",
      "예측 요약 :  union minister slams for remark\n",
      "\n",
      "\n",
      "원문 : australian captain steve smith highest paid captain world cricket earning crore per year salary crore virat kohli salary earnings survey espn magazine revealed smith salary times lowest earning captain zimbabwe however kohli earnings ipl endorsements currently richest cricketer \n",
      "실제 요약 : steve smith beats kohli as cricket highest earning captain \n",
      "예측 요약 :  dhoni becomes crore to get crore\n",
      "\n",
      "\n",
      "원문 : benchmark bse index sensex monday rallied points close nifty ended points higher indices bse ended higher healthcare rising icici bank sbi adani ports indiabulls housing finance dr reddy labs among top gainers \n",
      "실제 요약 : sensex points to mark \n",
      "예측 요약 :  sensex closes points nifty close at the time\n",
      "\n",
      "\n",
      "원문 : researchers discovered year old bone tools china suggest humans already familiar mechanical properties bones knew use make tools carved stone species neither according research published journal one \n",
      "실제 요약 : year old tools discovered in china \n",
      "예측 요약 :  scientists identify new species of\n",
      "\n",
      "\n",
      "원문 : elon musk led electric carmaker tesla recalled model cars built april excessive power steering tesla said observed cold fail although driver able increased force required due loss power assist \n",
      "실제 요약 : tesla recalls cars over power steering \n",
      "예측 요약 :  tesla car made cars at musk\n",
      "\n",
      "\n",
      "원문 : president donald trump said us asked turkey audio recording saudi journalist jamal khashoggi reportedly proves tortured murdered inside saudi consulate istanbul turkish authorities allege khashoggi killed team saudi agents reportedly linked saudi crown prince mohammed bin salman \n",
      "실제 요약 : us asks turkey for missing saudi journo audio recording \n",
      "예측 요약 :  trump ordered to death in us\n",
      "\n",
      "\n",
      "원문 : world tallest man sultan sen friday met world shortest woman jyoti egypt two guinness world record holders met photo shoot held part campaign egyptian government promote tourism sen height feet inches india jyoti feet inches tall \n",
      "실제 요약 : world tallest man meets world shortest woman \n",
      "예측 요약 :  year old becomes oldest woman to scale everest\n",
      "\n",
      "\n",
      "원문 : beijing police opened investigation alleged illegal fundraising transit elevated bus unveiled last year according reports company making bus raised billion sued investors powered electricity vehicle could carry passengers glide traffic allowing cars pass underneath \n",
      "실제 요약 : china launches investigation into elevated bus scam \n",
      "예측 요약 :  gurugram police arrest in delhi after smuggling driving\n",
      "\n",
      "\n",
      "원문 : gurugram district administration issued clarification denying reports claimed clubs bars district ordered shut ahead release padmaavat said schools colleges offices open normally january karni sena members detained across india reports said \n",
      "실제 요약 : gurugram denies order to shut bars over padmaavat release \n",
      "예측 요약 :  gurugram civic body to protest against gurugram\n",
      "\n",
      "\n",
      "원문 : part campaign speed exit around asylum seekers austria said would double amount money paid migrants voluntarily return home migrants would paid leave country instead previously offered notably austria received lakh asylum applications since \n",
      "실제 요약 : austria doubles cash offer for migrants to leave country \n",
      "예측 요약 :  sweden offers to avoid weed asylum after years\n",
      "\n",
      "\n",
      "원문 : us national security advisor hr mcmaster said russian government launched campaign influence mexico presidential election sophisticated effort democratic societies pit communities mcmaster added russia previously accused meddling presidential elections us france \n",
      "실제 요약 : russia meddling in mexican presidential election us nsa \n",
      "예측 요약 :  russia shuts down russian military security\n",
      "\n",
      "\n",
      "원문 : supreme court tuesday slammed cbi constituted special investigating team filing required number firs investigating alleged extrajudicial killings fake encounters manipur sit informed apex court lodged firs till sc ordered file firs january \n",
      "실제 요약 : sc slams cbi sit in manipur fake encounters probe \n",
      "예측 요약 :  sc orders probe into bhima koregaon murder case\n",
      "\n",
      "\n",
      "원문 : reacting query law order rajasthan view recent lynching incidents cm vasundhara raje said lynching reality rajasthan reality world blamed growing incidents lynching population explosion stating people frustrated lack jobs angry reaction circumstances \n",
      "실제 요약 : lynching not rajasthan reality but world reality cm \n",
      "예측 요약 :  bulandshahr blasts cases of padma bhushan\n",
      "\n",
      "\n",
      "원문 : malaysia airlines misplaced indian shuttlers saina nehwal hs prannoy luggage duo landed jakarta indonesia indonesia super series premier begins monday saina tweeted picture prannoy caption arrived luggage missing malaysia airlines airline yet respond tweet \n",
      "실제 요약 : malaysia airlines saina nehwal luggage \n",
      "예측 요약 :  london hotel to get world cup\n",
      "\n",
      "\n",
      "원문 : india captain virat kohli made time magazine annual list world influential people first time year old ended runs across formats third highest calendar year accompanying tribute cricket legend sachin tendulkar wrote kohli hunger runs consistency become game \n",
      "실제 요약 : virat among time most influential people for st time \n",
      "예측 요약 :  kohli named india most expensive at india\n",
      "\n",
      "\n",
      "원문 : thousands people us across world took part march lives rallies saturday demand end gun violence implementing stricter gun controls rallies held several countries including japan australia campaign gun violence gained strength mass shooting us school last month \n",
      "실제 요약 : thousands march globally demanding end to gun violence \n",
      "예측 요약 :  indian army to hit indian military parade\n",
      "\n",
      "\n"
     ]
    }
   ],
   "source": [
    "for i in range(50, 100):\n",
    "    print(\"원문 :\", seq2text(encoder_input_test[i]))\n",
    "    print(\"실제 요약 :\", seq2summary(decoder_input_test[i]))\n",
    "    print(\"예측 요약 :\", decode_sequence(encoder_input_test[i].reshape(1, text_max_len)))\n",
    "    print(\"\\n\")"
   ]
  },
  {
   "cell_type": "markdown",
   "id": "d50fcc1c",
   "metadata": {},
   "source": [
    "# Step 5. Summa을 이용해서 추출적 요약해보기\n",
    "    추출적 요약은 추상적 요약에 비해 난이도가 낮고 기존 문장에서 문장을 꺼내오는 것이므로 잘못된 요약이 나올 가능성이 낮다.\n",
    "\n",
    "Summa의 summarize를 사용하여 추출적 요약을 해보세요\n",
    "\n",
    "---\n",
    "### summarize()의 인자\n",
    "    - text (str) : 요약할 테스트.\n",
    "    - ratio (float, optional) – 요약문에서 원본에서 선택되는 문장 비율. 0~1 사이값\n",
    "    - words (int or None, optional) – 출력에 포함할 단어 수.\n",
    "    - 만약, ratio와 함께 두 파라미터가 모두 제공되는 경우 ratio는 무시한다.\n",
    "    - split (bool, optional) – True면 문장 list / False는 조인(join)된 문자열을 반환"
   ]
  },
  {
   "cell_type": "code",
   "execution_count": 78,
   "id": "0fcbae7d",
   "metadata": {},
   "outputs": [
    {
     "data": {
      "text/html": [
       "<div>\n",
       "<style scoped>\n",
       "    .dataframe tbody tr th:only-of-type {\n",
       "        vertical-align: middle;\n",
       "    }\n",
       "\n",
       "    .dataframe tbody tr th {\n",
       "        vertical-align: top;\n",
       "    }\n",
       "\n",
       "    .dataframe thead th {\n",
       "        text-align: right;\n",
       "    }\n",
       "</style>\n",
       "<table border=\"1\" class=\"dataframe\">\n",
       "  <thead>\n",
       "    <tr style=\"text-align: right;\">\n",
       "      <th></th>\n",
       "      <th>headlines</th>\n",
       "      <th>text</th>\n",
       "    </tr>\n",
       "  </thead>\n",
       "  <tbody>\n",
       "    <tr>\n",
       "      <th>0</th>\n",
       "      <td>upGrad learner switches to career in ML &amp; Al w...</td>\n",
       "      <td>Saurav Kant, an alumnus of upGrad and IIIT-B's...</td>\n",
       "    </tr>\n",
       "    <tr>\n",
       "      <th>1</th>\n",
       "      <td>Delhi techie wins free food from Swiggy for on...</td>\n",
       "      <td>Kunal Shah's credit card bill payment platform...</td>\n",
       "    </tr>\n",
       "    <tr>\n",
       "      <th>2</th>\n",
       "      <td>New Zealand end Rohit Sharma-led India's 12-ma...</td>\n",
       "      <td>New Zealand defeated India by 8 wickets in the...</td>\n",
       "    </tr>\n",
       "    <tr>\n",
       "      <th>3</th>\n",
       "      <td>Aegon life iTerm insurance plan helps customer...</td>\n",
       "      <td>With Aegon Life iTerm Insurance plan, customer...</td>\n",
       "    </tr>\n",
       "    <tr>\n",
       "      <th>4</th>\n",
       "      <td>Have known Hirani for yrs, what if MeToo claim...</td>\n",
       "      <td>Speaking about the sexual harassment allegatio...</td>\n",
       "    </tr>\n",
       "    <tr>\n",
       "      <th>5</th>\n",
       "      <td>Rahat Fateh Ali Khan denies getting notice for...</td>\n",
       "      <td>Pakistani singer Rahat Fateh Ali Khan has deni...</td>\n",
       "    </tr>\n",
       "    <tr>\n",
       "      <th>6</th>\n",
       "      <td>India get all out for 92, their lowest ODI tot...</td>\n",
       "      <td>India recorded their lowest ODI total in New Z...</td>\n",
       "    </tr>\n",
       "    <tr>\n",
       "      <th>7</th>\n",
       "      <td>Govt directs Alok Verma to join work 1 day bef...</td>\n",
       "      <td>Weeks after ex-CBI Director Alok Verma told th...</td>\n",
       "    </tr>\n",
       "    <tr>\n",
       "      <th>8</th>\n",
       "      <td>Called PM Modi 'sir' 10 times to satisfy his e...</td>\n",
       "      <td>Andhra Pradesh CM N Chandrababu Naidu has said...</td>\n",
       "    </tr>\n",
       "    <tr>\n",
       "      <th>9</th>\n",
       "      <td>Cong wins Ramgarh bypoll in Rajasthan, takes t...</td>\n",
       "      <td>Congress candidate Shafia Zubair won the Ramga...</td>\n",
       "    </tr>\n",
       "  </tbody>\n",
       "</table>\n",
       "</div>"
      ],
      "text/plain": [
       "                                           headlines  \\\n",
       "0  upGrad learner switches to career in ML & Al w...   \n",
       "1  Delhi techie wins free food from Swiggy for on...   \n",
       "2  New Zealand end Rohit Sharma-led India's 12-ma...   \n",
       "3  Aegon life iTerm insurance plan helps customer...   \n",
       "4  Have known Hirani for yrs, what if MeToo claim...   \n",
       "5  Rahat Fateh Ali Khan denies getting notice for...   \n",
       "6  India get all out for 92, their lowest ODI tot...   \n",
       "7  Govt directs Alok Verma to join work 1 day bef...   \n",
       "8  Called PM Modi 'sir' 10 times to satisfy his e...   \n",
       "9  Cong wins Ramgarh bypoll in Rajasthan, takes t...   \n",
       "\n",
       "                                                text  \n",
       "0  Saurav Kant, an alumnus of upGrad and IIIT-B's...  \n",
       "1  Kunal Shah's credit card bill payment platform...  \n",
       "2  New Zealand defeated India by 8 wickets in the...  \n",
       "3  With Aegon Life iTerm Insurance plan, customer...  \n",
       "4  Speaking about the sexual harassment allegatio...  \n",
       "5  Pakistani singer Rahat Fateh Ali Khan has deni...  \n",
       "6  India recorded their lowest ODI total in New Z...  \n",
       "7  Weeks after ex-CBI Director Alok Verma told th...  \n",
       "8  Andhra Pradesh CM N Chandrababu Naidu has said...  \n",
       "9  Congress candidate Shafia Zubair won the Ramga...  "
      ]
     },
     "execution_count": 78,
     "metadata": {},
     "output_type": "execute_result"
    }
   ],
   "source": [
    "import requests\n",
    "from summa.summarizer import summarize\n",
    "text = pd.read_csv('news_summary_more.csv', encoding='iso-8859-1')\n",
    "text[:10]"
   ]
  },
  {
   "cell_type": "code",
   "execution_count": 79,
   "id": "a18a579f",
   "metadata": {},
   "outputs": [
    {
     "name": "stdout",
     "output_type": "stream",
     "text": [
      "Text:\n",
      "원문: upGrad learner switches to career in ML & Al with 90% salary hike\n",
      "요약 : upGrad's Online Power Learning has powered 3 lakh+ careers.\n",
      "\n",
      "원문: Delhi techie wins free food from Swiggy for one year on CRED\n",
      "요약 : Users get one CRED coin per rupee of bill paid, which can be used to avail rewards from brands like Ixigo, BookMyShow, UberEats, Cult.Fit and more.\n",
      "\n",
      "원문: New Zealand end Rohit Sharma-led India's 12-match winning streak\n",
      "요약 : The match witnessed India getting all out for 92, their seventh lowest total in ODI cricket history.\n",
      "\n",
      "원문: Aegon life iTerm insurance plan helps customers save tax\n",
      "요약 : Also, customers have options to insure against Critical Illnesses, Disability and Accidental Death Benefit Rider with a life cover up to the age of 80 years.\n",
      "\n",
      "원문: Have known Hirani for yrs, what if MeToo claims are not true: Sonam\n",
      "요약 : Speaking about the sexual harassment allegations against Rajkumar Hirani, Sonam Kapoor said, \"I've known Hirani for many years...What if it's not true, the [#MeToo] movement will get derailed.\" \"In the #MeToo movement, I always believe a woman.\n",
      "\n",
      "원문: Rahat Fateh Ali Khan denies getting notice for smuggling currency\n",
      "요약 : Pakistani singer Rahat Fateh Ali Khan has denied receiving any notice from the Enforcement Directorate over allegedly smuggling foreign currency out of India.\n",
      "\n",
      "원문: India get all out for 92, their lowest ODI total in New Zealand\n",
      "요약 : India's previous lowest ODI total in New Zealand was 108.\n",
      "\n",
      "원문: Govt directs Alok Verma to join work 1 day before his retirement\n",
      "요약 : Weeks after ex-CBI Director Alok Verma told the Department of Personnel and Training to consider him retired, the Home Ministry asked him to join work on the last day of his fixed tenure as Director on Thursday.\n",
      "\n",
      "원문: Called PM Modi 'sir' 10 times to satisfy his ego: Andhra CM\n",
      "요약 : Andhra Pradesh CM N Chandrababu Naidu has said, \"When I met then US President Bill Clinton, I addressed him as Mr Clinton, not as 'sir'.\n",
      "\n",
      "원문: Cong wins Ramgarh bypoll in Rajasthan, takes total to 100 seats\n",
      "요약 : Congress candidate Shafia Zubair won the Ramgarh Assembly seat in Rajasthan, by defeating BJP's Sukhwant Singh with a margin of 12,228 votes in the bypoll.\n",
      "\n"
     ]
    }
   ],
   "source": [
    "print('Text:')\n",
    "for i in range(10):\n",
    "    print(f\"요약: {text['headlines'][i]}\")\n",
    "    print(\"원문 :\",summarize(text['text'][i], ratio=0.5))\n",
    "    print()"
   ]
  },
  {
   "attachments": {
    "image-2.png": {
     "image/png": "[encoded data removed]"
    },
    "image.png": {
     "image/png": "[encoded data removed]"
    }
   },
   "cell_type": "markdown",
   "id": "66507fbf",
   "metadata": {},
   "source": [
    "text_max_len = 40 & headlines_max_len = 10\n",
    "![image.png](attachment:image.png)\n",
    "\n",
    "text_max_len = 42 & headlines_max_len = 9\n",
    "![image-2.png](attachment:image-2.png)\n"
   ]
  },
  {
   "cell_type": "markdown",
   "id": "17e92eb0",
   "metadata": {},
   "source": [
    "text_max_len = 40 & headlines_max_len = 10\n",
    "\n",
    "    원문1.\n",
    "    인도 최초의 남자 하키 월드컵 3위, 첫 두 번의 월드컵 3위를 각각 차지한 인도는 현재까지 라이벌 파키스탄을 물리치고 최종 3회 클린치 하키 월드컵 우승을 차지한 인도 하키팀 올림픽 8관왕이다.\n",
    "    실제 요약:인도는 첫 번째 하키 세계에서 경기를 마쳤다.\n",
    "    예측 요약: 인도가 인도를 꺾고 월드컵 결승에 오르다\n",
    "\n",
    "    원문2.\n",
    "    전국녹색법원은 화요일 여성 2륜차의 홀짝수 계획을 기각하고 델리 정부가 자의적인 면제를 제안했다.ngt는 여성버스가 직면한 교통문제를 해결할 수 있는 이유를 물었다.\n",
    "\n",
    "    실제 요약 ::ngt는 홀수 짝수 여자 휠러 거부\n",
    "    예측 요약: 정부는 세금 학살에 대한 세부사항을 요구한다\n",
    "\n",
    "text_max_len = 42 & headlines_max_len = 9\n",
    "\n",
    "    원문 : 인도 캡틴 Virat Kohli는 타임 잡지의 연간 영향력 있는 사람들의 목록을 만들었다 처음으로 크리켓 전설 사친 텐둘카에 이어 3번째로 가장 높은 형식의 달력에 걸쳐 끝났다 콜리 배고픔의 연속성은 게임이 된다고 썼다.\n",
    "    실제 요약 : 당대 가장 영향력 있는 사람들 사이에 비라트.\n",
    "    예측 요약 :  kohli named india most expensive at india\n",
    "\n",
    "\n",
    "    원문 : 전 세계 수천명의 사람들이 토요일 일본 선거 운동인 호주와 같은 몇몇 국가들이 지난 달 학교에서 발생한 총기 폭력에 대한 강력한 규제로 총기 폭력을 중단하라고 요구하는 시위를 벌였다.\n",
    "    실제 요약 :수천명의 시위대가 총기 폭력 종식을 요구하며 전세계적으로 행진하고 있다.\n",
    "    예측 요약 :  인도 군대, 열병식에 참가하다\n",
    "    \n",
    "    \n",
    "---- \n",
    "## 회고\n",
    "그래프를 보고 많은 데이터들이 있는 부분을 살리고 데이터가 비교적 작은 곳을 하기 처리하기 위해 text_max_len & headlines_max_len 을 변경해 보았는데 많은 데이터를 살렸을때가 더 높은 로스와 더욱 부자연 스러운 요약이 이루어주는 것으을 보고 많은 데이터를 살린다고 좋은 결과가 나오는 것이 아니라는 것을 깨닫게 되었다.\n"
   ]
  },
  {
   "cell_type": "code",
   "execution_count": null,
   "id": "6c48f043",
   "metadata": {},
   "outputs": [],
   "source": []
  }
 ],
 "metadata": {
  "kernelspec": {
   "display_name": "Python 3 (ipykernel)",
   "language": "python",
   "name": "python3"
  },
  "language_info": {
   "codemirror_mode": {
    "name": "ipython",
    "version": 3
   },
   "file_extension": ".py",
   "mimetype": "text/x-python",
   "name": "python",
   "nbconvert_exporter": "python",
   "pygments_lexer": "ipython3",
   "version": "3.9.7"
  }
 },
 "nbformat": 4,
 "nbformat_minor": 5
}
